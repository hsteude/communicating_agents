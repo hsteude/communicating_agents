{
 "cells": [
  {
   "cell_type": "markdown",
   "metadata": {},
   "source": [
    "# Data exploration\n",
    "\n",
    "In this notebook we conduct an exploration of the dataset created in the module: `./comm_agents/data/data_generator.py`."
   ]
  },
  {
   "cell_type": "markdown",
   "metadata": {},
   "source": [
    "### Import stuff"
   ]
  },
  {
   "cell_type": "code",
   "execution_count": null,
   "metadata": {},
   "outputs": [],
   "source": [
    "import os\n",
    "os.chdir('..')\n",
    "%load_ext autoreload\n",
    "%autoreload 2"
   ]
  },
  {
   "cell_type": "code",
   "execution_count": null,
   "metadata": {},
   "outputs": [],
   "source": [
    "import torch\n",
    "from comm_agents.data.reference_experiments import RefExperimentMass, RefExperimentCharge\n",
    "from comm_agents.data.data_handler import RefExpDataset\n",
    "from comm_agents.models.model_single_enc import SingleEncModel\n",
    "import pandas as pd\n",
    "import numpy as np\n",
    "import plotly.express as px\n",
    "import plotly.graph_objects as go\n",
    "from ipywidgets import interact"
   ]
  },
  {
   "cell_type": "markdown",
   "metadata": {},
   "source": [
    "### Read data"
   ]
  },
  {
   "cell_type": "code",
   "execution_count": null,
   "metadata": {},
   "outputs": [],
   "source": [
    "DATA_PATH = './data/training/large_chunk_1.csv'\n",
    "df = pd.read_csv(DATA_PATH)\n",
    "# we device the angles py pi, so that we can read them\n",
    "df.loc[:, ['alpha_star0', 'alpha_star1', 'phi_star0', 'phi_star1']] = \\\n",
    "    df[['alpha_star0', 'alpha_star1', 'phi_star0', 'phi_star1']] / np.pi\n",
    "df['q0_t_q1'] = df.q0 * df.q1\n",
    "df.head(9)"
   ]
  },
  {
   "cell_type": "code",
   "execution_count": null,
   "metadata": {},
   "outputs": [],
   "source": [
    "df.info()"
   ]
  },
  {
   "cell_type": "markdown",
   "metadata": {},
   "source": [
    "## Mass experiment - observations"
   ]
  },
  {
   "cell_type": "code",
   "execution_count": null,
   "metadata": {},
   "outputs": [],
   "source": [
    "t = np.linspace(0, 10, 10)\n",
    "def get_ref_ex_a_obs(particle):\n",
    "    p = particle\n",
    "    t = np.linspace(0, 10, 10)\n",
    "    fig = go.Figure()\n",
    "    num_samples = 100\n",
    "    for i in np.random.choice(range(len(df)), num_samples):\n",
    "        m = df[f'm{p}'][i:i+1].values[0]\n",
    "        v_ref = df['v_ref_a'][i:i+1].values[0]\n",
    "        y = df[[c for c in df.columns if f'o_a_{p}' in c]][i:i+1].values[0]\n",
    "        trace = go.Scatter(x=t, y=y, mode='lines+markers', opacity=.1,\n",
    "                           hovertemplate = f'm0={m*1e20:.2f} e-20<extra></extra>',\n",
    "                           showlegend = False)\n",
    "        fig.add_trace(trace)\n",
    "        fig.update_layout(title=f'{num_samples} randomly selected observations of experiment A particle {p}',\n",
    "                             xaxis_title='time',\n",
    "                             yaxis_title=f'Particle {p} position in x direction',)\n",
    "    fig.show()\n",
    "interact(get_ref_ex_a_obs, particle=[0, 1])"
   ]
  },
  {
   "cell_type": "markdown",
   "metadata": {},
   "source": [
    "## Charge experiment - observations"
   ]
  },
  {
   "cell_type": "code",
   "execution_count": null,
   "metadata": {},
   "outputs": [],
   "source": [
    "def get_ref_ex_b_obs(particle):\n",
    "    p = particle\n",
    "    t = np.linspace(0, 10, 10)\n",
    "    fig = go.Figure()\n",
    "    num_samples = 100\n",
    "    for i in np.random.choice(range(len(df)), num_samples):\n",
    "        m = df[f'm{p}'][i:i+1].values[0]\n",
    "        q0_t_q1 = df[f'q{p}'][i:i+1].values[0] * -1e-17\n",
    "        y = df[[c for c in df.columns if f'o_b_{p}' in c]][i:i+1].values[0]\n",
    "        trace = go.Scatter(x=t, y=y, mode='lines+markers', opacity=.1,\n",
    "                           hovertemplate = f'm0={m*10**20:.2f} e-20;,'\n",
    "                            f' q0_t_q1={q0_t_q1*1e32:.2f} e-32;'\n",
    "                            f' m / q0_t_q1={m/q0_t_q1/1e12:.2f} 1e-12<extra></extra>',\n",
    "                           showlegend = False)\n",
    "        fig.add_trace(trace)\n",
    "        fig.update_layout(title=f'{num_samples} randomly selected observations of experiment B particle {p}',\n",
    "                             xaxis_title='time',\n",
    "                             yaxis_title=f'Particle {p} position in x direction',)\n",
    "    fig.show()\n",
    "interact(get_ref_ex_b_obs, particle=[0, 1])"
   ]
  },
  {
   "cell_type": "markdown",
   "metadata": {},
   "source": [
    "## Mass experiments - optimal answers\n",
    "### Scatter plots for optimal answers and influence factors"
   ]
  },
  {
   "cell_type": "code",
   "execution_count": null,
   "metadata": {},
   "outputs": [],
   "source": [
    "# take subsample for plotting\n",
    "df = df.sample(frac=.1).reset_index()"
   ]
  },
  {
   "cell_type": "code",
   "execution_count": null,
   "metadata": {},
   "outputs": [],
   "source": [
    "fig = px.scatter_matrix(df[['m0', 'v_ref_a']], color=df.alpha_star0, opacity=1,\n",
    "                       title='Pairsplot for reference experiment A particle 0, color: alpha_star0')\n",
    "fig.show()"
   ]
  },
  {
   "cell_type": "code",
   "execution_count": null,
   "metadata": {},
   "outputs": [],
   "source": [
    "fig = px.scatter_3d(df, x=df.m0, y=df.v_ref_a, z=df.alpha_star0, color=df.alpha_star0,\n",
    "                    title='Alpha_star over v_ref_a and m0')\n",
    "fig.show()"
   ]
  },
  {
   "cell_type": "markdown",
   "metadata": {},
   "source": [
    "## Charge experiments - optimal answers\n",
    "### Scatter plots for optimal answers and influence factors"
   ]
  },
  {
   "cell_type": "code",
   "execution_count": null,
   "metadata": {},
   "outputs": [],
   "source": [
    "fig = px.scatter_matrix(df[['m0', 'v_ref_b', 'q0_t_q1']],\n",
    "                        color=df.phi_star1, opacity=.5,\n",
    "                        title='Pairsplot for reference experiment B particle 0, color: phi_star0')\n",
    "\n",
    "fig.show()"
   ]
  },
  {
   "cell_type": "code",
   "execution_count": null,
   "metadata": {},
   "outputs": [],
   "source": [
    "fig = px.scatter_3d(df, x=df.v_ref_b, y=df.q0_t_q1, z=df.phi_star0, color=df.phi_star0,\n",
    "                   title='Phi_star over v_ref_b and q0 * q1')\n",
    "fig.show()"
   ]
  },
  {
   "cell_type": "markdown",
   "metadata": {},
   "source": [
    "### Feasibility check for optimal answers"
   ]
  },
  {
   "cell_type": "code",
   "execution_count": null,
   "metadata": {},
   "outputs": [],
   "source": [
    "DATA_PATH = './data/training/large_chunk_1.csv'\n",
    "df_check = pd.read_csv(DATA_PATH)\n",
    "# df_check.loc[:, ['alpha_star0', 'alpha_star1', 'phi_star0', 'phi_star1']] = \\\n",
    "#     df_check[['alpha_star0', 'alpha_star1', 'phi_star0', 'phi_star1']] / np.pi\n",
    "df_check.head()"
   ]
  },
  {
   "cell_type": "code",
   "execution_count": null,
   "metadata": {},
   "outputs": [],
   "source": [
    "i = 0\n",
    "def get_expample_exp(next):\n",
    "    global i\n",
    "    i+=1\n",
    "    m0 = df_check.m0[i]\n",
    "    m1 = df_check.m1[i]\n",
    "    q0 = df_check.q0[i]\n",
    "    q1 = df_check.q1[i]\n",
    "    v_ref_c = df_check.v_ref_b[i]\n",
    "    phi0 = df_check.phi_star0[i]\n",
    "    phi1 = df_check.phi_star1[i]\n",
    "    req = RefExperimentCharge( m=[m0, m1], q=[q0, q1], m_ref_c=2e-20,\n",
    "                     v_ref_c=v_ref_c, q_ref=[None, None], d=.1, N=1000,\n",
    "                              phi=[phi0, phi1],\n",
    "                     dt=.001, is_golf_game=True, y_cap=True)\n",
    "    req.run()\n",
    "    req.visualize(golf_hole_loc=0.1, tolerance=.01)\n",
    "\n",
    "\n",
    "    v_ref_m = df_check.v_ref_a[i]\n",
    "    alpha0 = df_check.alpha_star0[i]\n",
    "    alpha1 = df_check.alpha_star1[i]\n",
    "    rem = RefExperimentMass(m=[m0, m1], m_ref_m=2e-20, v_ref_m=v_ref_m, N=1000,\n",
    "                     alpha=[alpha0, alpha1], dt=.001, gravity=True)\n",
    "    rem.angle = np.array([alpha0, alpha1])\n",
    "    rem.run()\n",
    "    rem.visualize(golf_hole_loc=0.1, tolerance=.01)\n",
    "interact(get_expample_exp, next=False)"
   ]
  },
  {
   "cell_type": "markdown",
   "metadata": {},
   "source": [
    "### Oversampling"
   ]
  },
  {
   "cell_type": "code",
   "execution_count": null,
   "metadata": {},
   "outputs": [],
   "source": [
    "# import pytorch data set and create instance\n",
    "from comm_agents.data.data_handler import RefExpDataset\n",
    "ds = RefExpDataset(oversample=False)"
   ]
  },
  {
   "cell_type": "code",
   "execution_count": null,
   "metadata": {},
   "outputs": [],
   "source": [
    "df_oversample = ds.oversample(df, ['alpha_star0', 'phi_star0'],\n",
    "                                 [(0, .25), (.5, .75)], 10, frac=.5)\n",
    "df_oversample = ds.oversample(df_oversample, ['alpha_star1', 'phi_star1'],\n",
    "                                 [(0, .25), (.5, .75)], 10, frac=.5)"
   ]
  },
  {
   "cell_type": "code",
   "execution_count": null,
   "metadata": {},
   "outputs": [],
   "source": [
    "l_drop = ['q0', 'q1', 'm0', 'm1', 'v_ref_a', 'v_ref_b', 'q0_t_q1','alpha_star0', 'alpha_star1',\n",
    "          'phi_star0', 'phi_star1']\n",
    "def get_2d_hist(x, y, oversammple):\n",
    "    df_plt = df_oversample if oversammple else df\n",
    "    fig = px.density_heatmap(df_plt, x=x, y=y,\n",
    "                             marginal_x=\"histogram\",\n",
    "                             marginal_y=\"histogram\")\n",
    "    fig.show()\n",
    "interact(get_2d_hist, x=l_drop, y=l_drop, oversammple=False)"
   ]
  },
  {
   "cell_type": "code",
   "execution_count": null,
   "metadata": {},
   "outputs": [],
   "source": []
  }
 ],
 "metadata": {
  "hide_input": false,
  "kernelspec": {
   "display_name": "com-agent",
   "language": "python",
   "name": "com-agent"
  },
  "language_info": {
   "codemirror_mode": {
    "name": "ipython",
    "version": 3
   },
   "file_extension": ".py",
   "mimetype": "text/x-python",
   "name": "python",
   "nbconvert_exporter": "python",
   "pygments_lexer": "ipython3",
   "version": "3.7.9"
  }
 },
 "nbformat": 4,
 "nbformat_minor": 4
}
