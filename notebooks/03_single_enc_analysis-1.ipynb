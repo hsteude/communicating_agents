{
 "cells": [
  {
   "cell_type": "code",
   "execution_count": null,
   "metadata": {},
   "outputs": [],
   "source": [
    "import os\n",
    "os.chdir('..')\n",
    "%load_ext autoreload\n",
    "%autoreload 2"
   ]
  },
  {
   "cell_type": "code",
   "execution_count": null,
   "metadata": {},
   "outputs": [],
   "source": [
    "import torch\n",
    "from comm_agents.data.data_handler import RefExpDataset\n",
    "from comm_agents.models.model_single_enc_1 import SingleEncModel\n",
    "import pandas as pd\n",
    "import plotly.graph_objects as go\n",
    "from ipywidgets import interact"
   ]
  },
  {
   "cell_type": "code",
   "execution_count": null,
   "metadata": {},
   "outputs": [],
   "source": [
    "dataset = RefExpDataset()"
   ]
  },
  {
   "cell_type": "code",
   "execution_count": null,
   "metadata": {},
   "outputs": [],
   "source": [
    "!ls -la models/"
   ]
  },
  {
   "cell_type": "code",
   "execution_count": null,
   "metadata": {},
   "outputs": [],
   "source": [
    "MODEL_PATH_PRE = './models/single_enc_model_pretrain_2020-10-31.ckpt'\n",
    "MODEL_PATH_POST = './models/single_enc_model_2020-10-31.ckpt'"
   ]
  },
  {
   "cell_type": "code",
   "execution_count": null,
   "metadata": {},
   "outputs": [],
   "source": [
    "model_pre, model_post = [SingleEncModel.load_from_checkpoint(p) for p in [MODEL_PATH_PRE, MODEL_PATH_POST]]"
   ]
  },
  {
   "cell_type": "code",
   "execution_count": null,
   "metadata": {},
   "outputs": [],
   "source": [
    "model_pre.selection_bias, model_post.selection_bias"
   ]
  },
  {
   "cell_type": "code",
   "execution_count": null,
   "metadata": {},
   "outputs": [],
   "source": [
    "def get_a_ls_sb(model, obs, qs):\n",
    "    lat_space = model.encode(obs)\n",
    "\n",
    "    # filter\n",
    "    s0, s1, s2, s3 = model.filter(lat_space, model.selection_bias)\n",
    "\n",
    "    # decode\n",
    "    answers = model.decode(s0, s1, s2, s3, qs)\n",
    "    \n",
    "    return answers, lat_space, model.selection_bias"
   ]
  },
  {
   "cell_type": "code",
   "execution_count": null,
   "metadata": {},
   "outputs": [],
   "source": [
    "df_opt_answers = pd.DataFrame(dataset.opt_answers.detach().numpy(),\n",
    "                              columns=['alpha1_star', 'alpha2_star', 'phi1_star', 'phi2_star'])\n",
    "df_hidden_states = pd.DataFrame(dataset.hidden_states.detach().numpy(),\n",
    "                               columns=['m1', 'm2', 'q1', 'q2'])\n",
    "df_question = pd.DataFrame(dataset.questions.detach().numpy(),\n",
    "                       columns=['m_ref1', 'v_ref1', 'm_ref1', 'v_ref2'])\n",
    "\n",
    "df_hidden_states['q0_t_q1'] = df_hidden_states.q1 * df_hidden_states.q2\n",
    "    "
   ]
  },
  {
   "cell_type": "code",
   "execution_count": null,
   "metadata": {},
   "outputs": [],
   "source": [
    "def create_answers_plot(answer, opt_answer, samples=1000, pretrain=True):\n",
    "    \n",
    "    model =  model_pre if pretrain else model_post\n",
    "    answers, lat_spaces, selection_biases = get_a_ls_sb(model, dataset.observations[0:1000],\n",
    "                                                  dataset.questions[0:1000])\n",
    "    df_answers = pd.DataFrame(answers.detach().numpy(), columns=['alpha1', 'alpha2', 'phi1', 'phi2'])\n",
    "    df_lat_space = pd.DataFrame(lat_spaces.detach().numpy(),\n",
    "                                   columns=['l1', 'l2', 'l3'])\n",
    "    \n",
    "    fig = go.Figure()\n",
    "    fig.add_trace(go.Scatter(\n",
    "        y=df_answers[answer][0:samples],\n",
    "        x=df_opt_answers[opt_answer][0:samples],\n",
    "        mode='markers',\n",
    "        opacity=.5))\n",
    "    fig.update_layout(title_text='True labels vs prediction')\n",
    "    fig.update_xaxes(title_text='Optimal answer')\n",
    "    fig.update_yaxes(title_text='Predicted answer')\n",
    "    fig.show()\n",
    "interact(create_answers_plot, answer=['alpha1', 'alpha2', 'phi1', 'phi2'],\n",
    "        opt_answer=['alpha1_star', 'alpha2_star', 'phi1_star', 'phi2_star'],\n",
    "        samples=[100, 1000, 10000])"
   ]
  },
  {
   "cell_type": "code",
   "execution_count": null,
   "metadata": {},
   "outputs": [],
   "source": [
    "def create_lat_space_plot(lat_neuron, hidden_state, samples=1000, pretrain=True):\n",
    "    \n",
    "    model =  model_pre if pretrain else model_post\n",
    "    lat_spaces = model(dataset.observations[0:1000])\n",
    "    df_lat_space = pd.DataFrame(lat_spaces.detach().numpy(),\n",
    "                                   columns=['l0', 'l1', 'l2'])\n",
    "    \n",
    "    fig = go.Figure()\n",
    "    fig.add_trace(go.Scatter(\n",
    "        y=df_lat_space[lat_neuron][0:samples],\n",
    "        x=df_hidden_states[hidden_state][0:samples],\n",
    "        mode='markers',\n",
    "        opacity=.5))\n",
    "    fig.update_layout(title_text='Latent neuron activation vs. hidden states')\n",
    "    fig.update_xaxes(title_text=f'Hiddenstate {hidden_state}')\n",
    "    fig.update_yaxes(title_text=f'Latent neuron activation {lat_neuron}')\n",
    "    fig.show()\n",
    "interact(create_lat_space_plot, lat_neuron=['l0', 'l1', 'l2'],\n",
    "        hidden_state=['m1', 'm2', 'q0_t_q1'],\n",
    "        samples=[100, 1000, 10000])"
   ]
  },
  {
   "cell_type": "code",
   "execution_count": null,
   "metadata": {},
   "outputs": [],
   "source": []
  }
 ],
 "metadata": {
  "hide_input": false,
  "kernelspec": {
   "display_name": "Python 3",
   "language": "python",
   "name": "python3"
  },
  "language_info": {
   "codemirror_mode": {
    "name": "ipython",
    "version": 3
   },
   "file_extension": ".py",
   "mimetype": "text/x-python",
   "name": "python",
   "nbconvert_exporter": "python",
   "pygments_lexer": "ipython3",
   "version": "3.6.9"
  }
 },
 "nbformat": 4,
 "nbformat_minor": 4
}
