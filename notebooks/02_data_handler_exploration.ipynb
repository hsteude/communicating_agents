{
 "cells": [
  {
   "cell_type": "code",
   "execution_count": 1,
   "metadata": {},
   "outputs": [],
   "source": [
    "import os\n",
    "os.chdir('..')\n",
    "%load_ext autoreload\n",
    "%autoreload 2"
   ]
  },
  {
   "cell_type": "code",
   "execution_count": 2,
   "metadata": {},
   "outputs": [],
   "source": [
    "from comm_agents.data.reference_experiments import RefExperimentMass, RefExperimentCharge\n",
    "from comm_agents.data.optimal_answers import get_alpha_star, get_phi_star"
   ]
  },
  {
   "cell_type": "code",
   "execution_count": 5,
   "metadata": {},
   "outputs": [],
   "source": [
    "# initial experiment parameters\n",
    "GOLF_HOLE_LOC_M = .1\n",
    "GOLF_HOLE_LOC_C = .1\n",
    "TOLERANCE = .1\n",
    "PARAM_DICT = dict(\n",
    "    m=[1e-20, 1e-20],\n",
    "    q=[1e-16, -1e-15],\n",
    "    m_ref_m=2e-20,\n",
    "    v_ref_m=2,\n",
    "    m_ref_c=2e-20,\n",
    "    v_ref_c=1,\n",
    "    N=100,\n",
    "    alpha=[0, 0],\n",
    "    phi=[0, 0],\n",
    "    dt=.01,\n",
    "    d=.1,\n",
    "    gravity=True)\n",
    "M_RANGES = [1e-20, 5e-20]\n",
    "Q0_RANGE = [1e-16, 2e-16]\n",
    "Q1_RANGE = [-1e-15, -2e-15]"
   ]
  },
  {
   "cell_type": "code",
   "execution_count": null,
   "metadata": {},
   "outputs": [],
   "source": [
    "# ranges for experiments\n"
   ]
  }
 ],
 "metadata": {
  "hide_input": false,
  "kernelspec": {
   "display_name": "Python 3",
   "language": "python",
   "name": "python3"
  },
  "language_info": {
   "codemirror_mode": {
    "name": "ipython",
    "version": 3
   },
   "file_extension": ".py",
   "mimetype": "text/x-python",
   "name": "python",
   "nbconvert_exporter": "python",
   "pygments_lexer": "ipython3",
   "version": "3.7.9"
  }
 },
 "nbformat": 4,
 "nbformat_minor": 4
}
