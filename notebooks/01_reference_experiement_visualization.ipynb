{
 "cells": [
  {
   "cell_type": "code",
   "execution_count": 1,
   "metadata": {},
   "outputs": [],
   "source": [
    "import os\n",
    "os.chdir('..')\n",
    "%load_ext autoreload\n",
    "%autoreload 2"
   ]
  },
  {
   "cell_type": "code",
   "execution_count": 2,
   "metadata": {},
   "outputs": [],
   "source": [
    "from comm_agents.data.reference_experiments_with_qa import RefExperimentMass, RefExperimentCharge\n",
    "from ipywidgets import interact\n",
    "import numpy as  np"
   ]
  },
  {
   "cell_type": "code",
   "execution_count": 81,
   "metadata": {},
   "outputs": [],
   "source": [
    "# experiment parameters\n",
    "GOLF_HOLE_LOC_M = 0.1\n",
    "GOLF_HOLE_LOC_C = 1\n",
    "PARAM_DICT = dict(\n",
    "    m=[2e-12, 1e-12],\n",
    "    q=[3e-12, -4e-12],\n",
    "    m_ref=2e-12,\n",
    "    v_ref=1,\n",
    "    N=100,\n",
    "    alpha=[0, 0],\n",
    "    dt=.01,\n",
    "    d=.1,\n",
    "    gravity=True)"
   ]
  },
  {
   "cell_type": "code",
   "execution_count": 82,
   "metadata": {},
   "outputs": [],
   "source": [
    "alpha_range_re1 = np.linspace(0, 0.6, 20)\n",
    "m_range_re1 = np.linspace(1e-12, 3e-12, 20)\n",
    "alpha_range_re2 = np.linspace(0.5, 1, 20)\n",
    "q_range_re2_1 = np.linspace(1e-12, 4e-12, 20)\n",
    "q_range_re2_2 = np.linspace(-3e-12, -5e-12, 20)\n",
    "N_reange = [10, 100, 1000, 10000, 100000]"
   ]
  },
  {
   "cell_type": "code",
   "execution_count": 83,
   "metadata": {},
   "outputs": [
    {
     "data": {
      "application/vnd.jupyter.widget-view+json": {
       "model_id": "77879a92c9ed4123913732543bdfd7b1",
       "version_major": 2,
       "version_minor": 0
      },
      "text/plain": [
       "interactive(children=(Dropdown(description='alpha1', options=(0.0, 0.031578947368421054, 0.06315789473684211, …"
      ]
     },
     "metadata": {},
     "output_type": "display_data"
    },
    {
     "data": {
      "text/plain": [
       "<function __main__.get_re1_plot(alpha1, alpha2, m1, m2, N)>"
      ]
     },
     "execution_count": 83,
     "metadata": {},
     "output_type": "execute_result"
    }
   ],
   "source": [
    "def get_re1_plot(alpha1, alpha2, m1, m2, N):\n",
    "    rem = RefExperimentMass(**PARAM_DICT)\n",
    "    rem.N = N\n",
    "    rem.set_initial_state()\n",
    "    rem.alpha = np.array([alpha1*np.pi, alpha2*np.pi])\n",
    "    rem.m = np.array([m1, m2])\n",
    "    rem.run()\n",
    "    rem.visualize(golf_hole_loc=GOLF_HOLE_LOC_M)\n",
    "    \n",
    "interact(get_re1_plot, alpha1=alpha_range_re1, alpha2=alpha_range_re1,\n",
    "         m1=m_range_re1, m2=m_range_re1, N=N_reange)"
   ]
  },
  {
   "cell_type": "code",
   "execution_count": null,
   "metadata": {},
   "outputs": [],
   "source": []
  },
  {
   "cell_type": "code",
   "execution_count": 84,
   "metadata": {},
   "outputs": [
    {
     "data": {
      "application/vnd.jupyter.widget-view+json": {
       "model_id": "21583f29b0804adf821dbf5545862906",
       "version_major": 2,
       "version_minor": 0
      },
      "text/plain": [
       "interactive(children=(Dropdown(description='alpha1', options=(0.5, 0.5263157894736842, 0.5526315789473684, 0.5…"
      ]
     },
     "metadata": {},
     "output_type": "display_data"
    },
    {
     "data": {
      "text/plain": [
       "<function __main__.get_re2_plot(alpha1, alpha2, q1, q2, N)>"
      ]
     },
     "execution_count": 84,
     "metadata": {},
     "output_type": "execute_result"
    }
   ],
   "source": [
    "def get_re2_plot(alpha1, alpha2, q1, q2, N):\n",
    "    req = RefExperimentCharge(**PARAM_DICT)\n",
    "    req.N = N\n",
    "    req.set_initial_state()\n",
    "    req.alpha = np.array([alpha1*np.pi, alpha2*np.pi])\n",
    "    req.q = np.array([q1, q2])\n",
    "    req.run()\n",
    "    req.visualize(golf_hole_loc=.1)\n",
    "interact(get_re2_plot, alpha1=alpha_range_re2, alpha2=alpha_range_re2,\n",
    "        q1=q_range_re2_1, q2=q_range_re2_2, N=N_reange)"
   ]
  },
  {
   "cell_type": "code",
   "execution_count": 108,
   "metadata": {},
   "outputs": [],
   "source": [
    "from comm_agents.data.optimal_answers import get_alpha_star"
   ]
  },
  {
   "cell_type": "code",
   "execution_count": 110,
   "metadata": {},
   "outputs": [
    {
     "name": "stderr",
     "output_type": "stream",
     "text": [
      "2020-10-12 19:07:42.741 | WARNING  | comm_agents.data.optimal_answers:get_single_charge_loss_value:32 - Particle 0 did not cross line with x=0\n",
      "2020-10-12 19:07:42.741 | WARNING  | comm_agents.data.optimal_answers:get_single_charge_loss_value:32 - Particle 1 did not cross line with x=0\n",
      "2020-10-12 19:07:42.750 | WARNING  | comm_agents.data.optimal_answers:get_single_charge_loss_value:32 - Particle 1 did not cross line with x=0\n",
      "2020-10-12 19:07:42.758 | WARNING  | comm_agents.data.optimal_answers:get_single_charge_loss_value:32 - Particle 0 did not cross line with x=0\n",
      "2020-10-12 19:07:42.779 | WARNING  | comm_agents.data.optimal_answers:get_single_charge_loss_value:32 - Particle 1 did not cross line with x=0\n"
     ]
    },
    {
     "name": "stdout",
     "output_type": "stream",
     "text": [
      "0.004443657710424806\n"
     ]
    },
    {
     "data": {
      "text/plain": [
       "array([1.81604019, 1.84688712])"
      ]
     },
     "execution_count": 110,
     "metadata": {},
     "output_type": "execute_result"
    }
   ],
   "source": [
    "get_alpha_star(req)"
   ]
  },
  {
   "cell_type": "code",
   "execution_count": null,
   "metadata": {},
   "outputs": [],
   "source": [
    "get_alpha_star(req, .1, )"
   ]
  },
  {
   "cell_type": "code",
   "execution_count": 86,
   "metadata": {},
   "outputs": [
    {
     "data": {
      "text/plain": [
       "0.07030868261376619"
      ]
     },
     "execution_count": 86,
     "metadata": {},
     "output_type": "execute_result"
    }
   ],
   "source": [
    "objective_golf([0.9*np.pi, 0.9*np.pi], rem, get_single_mass_loss_value, .1)"
   ]
  },
  {
   "cell_type": "code",
   "execution_count": 87,
   "metadata": {},
   "outputs": [
    {
     "data": {
      "text/plain": [
       "0.0034666944064437365"
      ]
     },
     "execution_count": 87,
     "metadata": {},
     "output_type": "execute_result"
    }
   ],
   "source": [
    "objective_golf([0.55*np.pi, 0.55*np.pi], req, get_single_charge_loss_value, .1)"
   ]
  },
  {
   "cell_type": "code",
   "execution_count": 88,
   "metadata": {},
   "outputs": [],
   "source": [
    "from scipy import optimize\n",
    "initial_guess = [0.4999 * np.pi, 0.4999 * np.pi]\n",
    "alpha_star = optimize.minimize(\n",
    "    objective_golf,\n",
    "    initial_guess,\n",
    "    method='Nelder-Mead',\n",
    "    args=(rem, get_single_mass_loss_value, .1),\n",
    ").x"
   ]
  },
  {
   "cell_type": "code",
   "execution_count": 89,
   "metadata": {},
   "outputs": [
    {
     "data": {
      "text/plain": [
       "array([0.28900965, 0.40777474])"
      ]
     },
     "execution_count": 89,
     "metadata": {},
     "output_type": "execute_result"
    }
   ],
   "source": [
    "alpha_star / np.pi"
   ]
  },
  {
   "cell_type": "code",
   "execution_count": 90,
   "metadata": {},
   "outputs": [],
   "source": [
    "rem = RefExperimentMass(**PARAM_DICT)"
   ]
  },
  {
   "cell_type": "code",
   "execution_count": 91,
   "metadata": {},
   "outputs": [],
   "source": [
    "req = RefExperimentCharge(**PARAM_DICT)"
   ]
  },
  {
   "cell_type": "code",
   "execution_count": 92,
   "metadata": {},
   "outputs": [
    {
     "name": "stderr",
     "output_type": "stream",
     "text": [
      "2020-10-12 18:43:23.313 | WARNING  | comm_agents.data.optimal_answers:get_single_charge_loss_value:24 - Particle 1 did not cross line with x=0\n",
      "2020-10-12 18:43:23.321 | WARNING  | comm_agents.data.optimal_answers:get_single_charge_loss_value:24 - Particle 1 did not cross line with x=0\n"
     ]
    }
   ],
   "source": [
    "initial_guess = [0.51 * np.pi, 0.51 * np.pi]\n",
    "alpha_star = optimize.minimize(\n",
    "    objective_golf,\n",
    "    initial_guess,\n",
    "    method='Nelder-Mead',\n",
    "    args=(req, get_single_charge_loss_value, .1),\n",
    ")"
   ]
  },
  {
   "cell_type": "code",
   "execution_count": 103,
   "metadata": {},
   "outputs": [
    {
     "data": {
      "text/plain": [
       " final_simplex: (array([[1.81608535, 1.84685172],\n",
       "       [1.81609962, 1.84676524],\n",
       "       [1.81608248, 1.8467619 ]]), array([1.43585213e-05, 1.43591558e-05, 1.43615971e-05]))\n",
       "           fun: 1.435852127548144e-05\n",
       "       message: 'Optimization terminated successfully.'\n",
       "          nfev: 89\n",
       "           nit: 45\n",
       "        status: 0\n",
       "       success: True\n",
       "             x: array([1.81608535, 1.84685172])"
      ]
     },
     "execution_count": 103,
     "metadata": {},
     "output_type": "execute_result"
    }
   ],
   "source": [
    "alpha_star"
   ]
  },
  {
   "cell_type": "code",
   "execution_count": 94,
   "metadata": {},
   "outputs": [
    {
     "data": {
      "application/vnd.plotly.v1+json": {
       "config": {
        "plotlyServerURL": "https://plot.ly"
       },
       "data": [
        {
         "mode": "lines+markers",
         "name": "Particle 1",
         "opacity": 0.5,
         "type": "scatter",
         "x": [
          0,
          -0.002158667028716707,
          -0.0038074013122256422,
          -0.004980584662792008,
          -0.005715183930861572,
          -0.006048861073424071,
          -0.006018563065898318,
          -0.005659556066137313,
          -0.005004829862544241,
          -0.00408478775101715,
          -0.002927142444936455,
          -0.001556951627629376,
          3.258349198684415e-06,
          0.0017333183546420425,
          0.0036152183006234293,
          0.00563290245462064,
          0.007772069351481699,
          0.010019982863409618,
          0.012365297888626852,
          0.014797902081052949,
          0.017308773754858963,
          0.01988985532478068,
          0.022533941215500244,
          0.02523457897115134,
          0.027985982236175447,
          0.030782954305279005,
          0.033620821015914064,
          0.03649537185737249,
          0.03940280828095901,
          0.042339698306445135,
          0.045302936625676776,
          0.048289709501924474,
          0.051297463852049544,
          0.05432387997752603,
          0.057366847480107126,
          0.06042444395907606,
          0.06349491614035052,
          0.06657666313404029,
          0.06966822155720247,
          0.0727682522932617,
          0.07587552868956379,
          0.07898892602043854,
          0.0821074120655165,
          0.08523003867236277,
          0.08835593418918218,
          0.09148429666778192,
          0.09461438774946658,
          0.09774552715735839,
          0.10087708772801703,
          0.10400849092337817,
          0.10713920277111096,
          0.1102687301876575,
          0.11339661764359034,
          0.1165224441356122,
          0.11964582043362151,
          0.122766386574854,
          0.12588380958025555,
          0.12899778137100146,
          0.13210801686550316,
          0.1352142522393799,
          0.13831624333275444,
          0.14141376419089458,
          0.1445066057256906,
          0.14759457448675922,
          0.15067749153211676,
          0.15375519138938726,
          0.15682752109942,
          0.1598943393349996,
          0.1629555155880523,
          0.166010929419395,
          0.1690604697656475,
          0.17210403429844184,
          0.17514152883152195,
          0.17817286677173935,
          0.18119796861031967,
          0.18421676145110732,
          0.187229178572794,
          0.190235159022406,
          0.19323464723756742,
          0.1962275926952751,
          0.19921394958511873,
          0.2021936765050583,
          0.2051667361780322,
          0.20813309518781634,
          0.21109272373268695,
          0.2140455953955605,
          0.21699168692939338,
          0.21993097805672396,
          0.22286345128232968,
          0.22578909171805497,
          0.2287078869189404,
          0.23161982672985254,
          0.23452490314187677,
          0.23742311015779202,
          0.24031444366599947,
          0.24319890132232475,
          0.2460764824391575,
          0.24894718788143205,
          0.2518110199689903,
          0.2546679823849015
         ],
         "xaxis": "x",
         "y": [
          0,
          0.00970067181043878,
          0.01935292198079032,
          0.02891651469524959,
          0.0383593010424424,
          0.04765661072360624,
          0.0567903559697988,
          0.0657480235543095,
          0.07452167604446526,
          0.08310703447075382,
          0.09150267740348376,
          0.09970936645208435,
          0.10772949328405731,
          0.11556663557858499,
          0.12322520634937116,
          0.13071018086609387,
          0.13802688665669405,
          0.14518084395443975,
          0.15217764598202901,
          0.15902287038493831,
          0.16572201482208582,
          0.17228045115786533,
          0.17870339388224327,
          0.1849958793411787,
          0.19116275312138048,
          0.19720866353479935,
          0.20313805961968517,
          0.20895519244268157,
          0.21466411877202318,
          0.2202687064131009,
          0.22577264066859,
          0.23117943151716314,
          0.23649242120630276,
          0.24171479203273147,
          0.24684957414381553,
          0.2518996532390995,
          0.25686777808609407,
          0.2617565677910413,
          0.2665685187855353,
          0.2713060115050582,
          0.27597131674684805,
          0.2805666017029289,
          0.28509393567028735,
          0.2895552954446035,
          0.2939525704070467,
          0.29828756731574074,
          0.30256201481483946,
          0.3067775676749139,
          0.31093581077868665,
          0.31503826286617004,
          0.3190863800530535,
          0.3230815591358162,
          0.32702514069655664,
          0.3309184120199755,
          0.3347626098343468,
          0.33855892288769057,
          0.34230849436973104,
          0.3460124241896019,
          0.34967177111865083,
          0.35328755480710844,
          0.3568607576828216,
          0.360392326739715,
          0.3638831752231349,
          0.3673341842187493,
          0.3707462041512268,
          0.3741200561984926,
          0.37745653362696435,
          0.38075640305279923,
          0.38402040563383905,
          0.3872492581966186,
          0.39044365430250216,
          0.39360426525673586,
          0.39673174106394377,
          0.3998267113333562,
          0.40288978613683446,
          0.40592155682255054,
          0.4089225967869858,
          0.41189346220773615,
          0.41483469273944457,
          0.41774681217502707,
          0.4206303290742174,
          0.4234857373613208,
          0.42631351689394553,
          0.4291141340043657,
          0.4318880420150621,
          0.43463568172989003,
          0.4373574819022299,
          0.440053859681391,
          0.44272522103846035,
          0.4453719611727124,
          0.44799446489962824,
          0.4505931070215075,
          0.4531682526815963,
          0.4557202577025991,
          0.4582494689103901,
          0.46075622444369035,
          0.4632408540504328,
          0.4657036793714934,
          0.46814501421242777,
          0.4705651648038163
         ],
         "yaxis": "y"
        },
        {
         "mode": "lines+markers",
         "name": "Particle 2",
         "opacity": 0.5,
         "type": "scatter",
         "x": [
          0,
          -0.0030947669654424383,
          -0.005197656149052583,
          -0.006405925866360613,
          -0.006818531632700052,
          -0.0065304383444154835,
          -0.005629384709261502,
          -0.00419441831804701,
          -0.0022955798215619347,
          5.73878165064691e-06,
          0.0026560876469270975,
          0.00560911074193789,
          0.008824677136109444,
          0.01226805760091839,
          0.01590917762433245,
          0.019721957633353937,
          0.023683739992795383,
          0.027774796663227033,
          0.031977908963311624,
          0.03627801026337379,
          0.04066188277617412,
          0.04511790040276356,
          0.0496358105504369,
          0.05420654881202856,
          0.058822081303912144,
          0.06347527027078909,
          0.06815975926953623,
          0.072869874845439,
          0.07760054212138051,
          0.08234721214548735,
          0.08710579919705523,
          0.09187262654521193,
          0.09664437939943671,
          0.10141806399414323,
          0.10619097191816956,
          0.11096064894017665,
          0.1157248676975977,
          0.12048160371400882,
          0.1252290142909885,
          0.12996541988847854,
          0.13468928766463853,
          0.13939921689407503,
          0.14409392602366777,
          0.1487722411592771,
          0.15343308580544363,
          0.15807547170464525,
          0.16269849064346803,
          0.16730130711076788,
          0.17188315170803492,
          0.17644331522513088,
          0.1809811433056869,
          0.1854960316360096,
          0.18998742159958124,
          0.19445479634635301,
          0.19889767723218732,
          0.2033156205891412,
          0.20770821479192078,
          0.21207507758987268,
          0.21641585367739855,
          0.22073021247875435,
          0.2250178461258881,
          0.22927846761033047,
          0.2335118090922254,
          0.23771762035141297,
          0.24189566736708332,
          0.24604573101394048,
          0.2501676058640686,
          0.2542610990848045,
          0.25832602942390515,
          0.2623622262741736,
          0.2663695288104846,
          0.2703477851928439,
          0.27429685182973396,
          0.2782165926965482,
          0.2821068787044121,
          0.2859675871151289,
          0.2897986009983839,
          0.2935998087276976,
          0.29737110351193513,
          0.30111238295946896,
          0.304823548672348,
          0.30850450586806116,
          0.3121551630266924,
          0.3157754315614552,
          0.3193652255107665,
          0.32292446125017393,
          0.32645305722259366,
          0.3299509336854421,
          0.3334180124733617,
          0.33685421677534605,
          0.34025947092516556,
          0.3436337002040831,
          0.3469768306549267,
          0.35028878890666026,
          0.35356950200865994,
          0.3568188972739616,
          0.3600369021308032,
          0.36322344398183404,
          0.36637845007040964,
          0.3695018473534339
         ],
         "xaxis": "x",
         "y": [
          0,
          0.012828507639046121,
          0.025533591829203697,
          0.03802153384023655,
          0.05022516495795314,
          0.062099333340445255,
          0.07361619136642071,
          0.08476095005913481,
          0.09552835417774255,
          0.10591990371639652,
          0.1159417395204674,
          0.12560307433526086,
          0.1349150507979939,
          0.14388992347050045,
          0.15254048176928264,
          0.16087964940538246,
          0.16892021177920322,
          0.1766746353408231,
          0.18415495254355174,
          0.19137269321539307,
          0.19833884848222924,
          0.2050638572573664,
          0.2115576081323505,
          0.21782945154600444,
          0.22388821858380584,
          0.2297422438237851,
          0.23539939041176816,
          0.24086707610051233,
          0.24615229938375616,
          0.25126166514050535,
          0.25620140940811265,
          0.2609774230473345,
          0.2655952741648015,
          0.2700602292299623,
          0.27437727287307423,
          0.2785511263843821,
          0.28258626495674355,
          0.28648693372787704,
          0.2902571626864997,
          0.293900780510607,
          0.29742142740727456,
          0.30082256702254273,
          0.30410749748782584,
          0.3072793616663497,
          0.3103411566596901,
          0.31329574263080706,
          0.31614585099621045,
          0.3188940920361599,
          0.32154296196818427,
          0.32409484952574075,
          0.3265520420805597,
          0.32891673134414673,
          0.3311910186810502,
          0.3333769200638457,
          0.33547637069733405,
          0.3374912293371871,
          0.339423282326199,
          0.3412742473693904,
          0.34304577706746814,
          0.3447394622265423,
          0.3463568349605385,
          0.34789937160140755,
          0.34936849543100984,
          0.3507655792474361,
          0.3520919477775045,
          0.3533488799462405,
          0.3545376110132935,
          0.35565933458546445,
          0.3567152045138036,
          0.35770633668308655,
          0.3586338107008777,
          0.3594986714928435,
          0.3603019308104752,
          0.3610445686569219,
          0.3617275346362116,
          0.3623517492307507,
          0.36291810501163707,
          0.36342746778599344,
          0.36388067768522825,
          0.364278550197853,
          0.36462187715023103,
          0.36491142763839707,
          0.3651479489138703,
          0.3653321672261842,
          0.3654647886246708,
          0.3655464997218675,
          0.36557796842075657,
          0.3655598446079009,
          0.3654927608144058,
          0.3653773328465102,
          0.3652141603874963,
          0.3650038275724975,
          0.3647469035376858,
          0.3644439429452275,
          0.36409548648530865,
          0.3637020613564533,
          0.3632641817252816,
          0.3627823491667876,
          0.3622570530861498,
          0.3616887711230295
         ],
         "yaxis": "y"
        },
        {
         "name": "Reference particle",
         "type": "scatter",
         "x": [
          0.0999,
          0.10010000000000001
         ],
         "xaxis": "x",
         "y": [
          0,
          0
         ],
         "yaxis": "y"
        },
        {
         "name": "Golf hole",
         "type": "scatter",
         "x": [
          0,
          0
         ],
         "xaxis": "x",
         "y": [
          0.099,
          0.101
         ],
         "yaxis": "y"
        }
       ],
       "layout": {
        "template": {
         "data": {
          "bar": [
           {
            "error_x": {
             "color": "#2a3f5f"
            },
            "error_y": {
             "color": "#2a3f5f"
            },
            "marker": {
             "line": {
              "color": "#E5ECF6",
              "width": 0.5
             }
            },
            "type": "bar"
           }
          ],
          "barpolar": [
           {
            "marker": {
             "line": {
              "color": "#E5ECF6",
              "width": 0.5
             }
            },
            "type": "barpolar"
           }
          ],
          "carpet": [
           {
            "aaxis": {
             "endlinecolor": "#2a3f5f",
             "gridcolor": "white",
             "linecolor": "white",
             "minorgridcolor": "white",
             "startlinecolor": "#2a3f5f"
            },
            "baxis": {
             "endlinecolor": "#2a3f5f",
             "gridcolor": "white",
             "linecolor": "white",
             "minorgridcolor": "white",
             "startlinecolor": "#2a3f5f"
            },
            "type": "carpet"
           }
          ],
          "choropleth": [
           {
            "colorbar": {
             "outlinewidth": 0,
             "ticks": ""
            },
            "type": "choropleth"
           }
          ],
          "contour": [
           {
            "colorbar": {
             "outlinewidth": 0,
             "ticks": ""
            },
            "colorscale": [
             [
              0,
              "#0d0887"
             ],
             [
              0.1111111111111111,
              "#46039f"
             ],
             [
              0.2222222222222222,
              "#7201a8"
             ],
             [
              0.3333333333333333,
              "#9c179e"
             ],
             [
              0.4444444444444444,
              "#bd3786"
             ],
             [
              0.5555555555555556,
              "#d8576b"
             ],
             [
              0.6666666666666666,
              "#ed7953"
             ],
             [
              0.7777777777777778,
              "#fb9f3a"
             ],
             [
              0.8888888888888888,
              "#fdca26"
             ],
             [
              1,
              "#f0f921"
             ]
            ],
            "type": "contour"
           }
          ],
          "contourcarpet": [
           {
            "colorbar": {
             "outlinewidth": 0,
             "ticks": ""
            },
            "type": "contourcarpet"
           }
          ],
          "heatmap": [
           {
            "colorbar": {
             "outlinewidth": 0,
             "ticks": ""
            },
            "colorscale": [
             [
              0,
              "#0d0887"
             ],
             [
              0.1111111111111111,
              "#46039f"
             ],
             [
              0.2222222222222222,
              "#7201a8"
             ],
             [
              0.3333333333333333,
              "#9c179e"
             ],
             [
              0.4444444444444444,
              "#bd3786"
             ],
             [
              0.5555555555555556,
              "#d8576b"
             ],
             [
              0.6666666666666666,
              "#ed7953"
             ],
             [
              0.7777777777777778,
              "#fb9f3a"
             ],
             [
              0.8888888888888888,
              "#fdca26"
             ],
             [
              1,
              "#f0f921"
             ]
            ],
            "type": "heatmap"
           }
          ],
          "heatmapgl": [
           {
            "colorbar": {
             "outlinewidth": 0,
             "ticks": ""
            },
            "colorscale": [
             [
              0,
              "#0d0887"
             ],
             [
              0.1111111111111111,
              "#46039f"
             ],
             [
              0.2222222222222222,
              "#7201a8"
             ],
             [
              0.3333333333333333,
              "#9c179e"
             ],
             [
              0.4444444444444444,
              "#bd3786"
             ],
             [
              0.5555555555555556,
              "#d8576b"
             ],
             [
              0.6666666666666666,
              "#ed7953"
             ],
             [
              0.7777777777777778,
              "#fb9f3a"
             ],
             [
              0.8888888888888888,
              "#fdca26"
             ],
             [
              1,
              "#f0f921"
             ]
            ],
            "type": "heatmapgl"
           }
          ],
          "histogram": [
           {
            "marker": {
             "colorbar": {
              "outlinewidth": 0,
              "ticks": ""
             }
            },
            "type": "histogram"
           }
          ],
          "histogram2d": [
           {
            "colorbar": {
             "outlinewidth": 0,
             "ticks": ""
            },
            "colorscale": [
             [
              0,
              "#0d0887"
             ],
             [
              0.1111111111111111,
              "#46039f"
             ],
             [
              0.2222222222222222,
              "#7201a8"
             ],
             [
              0.3333333333333333,
              "#9c179e"
             ],
             [
              0.4444444444444444,
              "#bd3786"
             ],
             [
              0.5555555555555556,
              "#d8576b"
             ],
             [
              0.6666666666666666,
              "#ed7953"
             ],
             [
              0.7777777777777778,
              "#fb9f3a"
             ],
             [
              0.8888888888888888,
              "#fdca26"
             ],
             [
              1,
              "#f0f921"
             ]
            ],
            "type": "histogram2d"
           }
          ],
          "histogram2dcontour": [
           {
            "colorbar": {
             "outlinewidth": 0,
             "ticks": ""
            },
            "colorscale": [
             [
              0,
              "#0d0887"
             ],
             [
              0.1111111111111111,
              "#46039f"
             ],
             [
              0.2222222222222222,
              "#7201a8"
             ],
             [
              0.3333333333333333,
              "#9c179e"
             ],
             [
              0.4444444444444444,
              "#bd3786"
             ],
             [
              0.5555555555555556,
              "#d8576b"
             ],
             [
              0.6666666666666666,
              "#ed7953"
             ],
             [
              0.7777777777777778,
              "#fb9f3a"
             ],
             [
              0.8888888888888888,
              "#fdca26"
             ],
             [
              1,
              "#f0f921"
             ]
            ],
            "type": "histogram2dcontour"
           }
          ],
          "mesh3d": [
           {
            "colorbar": {
             "outlinewidth": 0,
             "ticks": ""
            },
            "type": "mesh3d"
           }
          ],
          "parcoords": [
           {
            "line": {
             "colorbar": {
              "outlinewidth": 0,
              "ticks": ""
             }
            },
            "type": "parcoords"
           }
          ],
          "pie": [
           {
            "automargin": true,
            "type": "pie"
           }
          ],
          "scatter": [
           {
            "marker": {
             "colorbar": {
              "outlinewidth": 0,
              "ticks": ""
             }
            },
            "type": "scatter"
           }
          ],
          "scatter3d": [
           {
            "line": {
             "colorbar": {
              "outlinewidth": 0,
              "ticks": ""
             }
            },
            "marker": {
             "colorbar": {
              "outlinewidth": 0,
              "ticks": ""
             }
            },
            "type": "scatter3d"
           }
          ],
          "scattercarpet": [
           {
            "marker": {
             "colorbar": {
              "outlinewidth": 0,
              "ticks": ""
             }
            },
            "type": "scattercarpet"
           }
          ],
          "scattergeo": [
           {
            "marker": {
             "colorbar": {
              "outlinewidth": 0,
              "ticks": ""
             }
            },
            "type": "scattergeo"
           }
          ],
          "scattergl": [
           {
            "marker": {
             "colorbar": {
              "outlinewidth": 0,
              "ticks": ""
             }
            },
            "type": "scattergl"
           }
          ],
          "scattermapbox": [
           {
            "marker": {
             "colorbar": {
              "outlinewidth": 0,
              "ticks": ""
             }
            },
            "type": "scattermapbox"
           }
          ],
          "scatterpolar": [
           {
            "marker": {
             "colorbar": {
              "outlinewidth": 0,
              "ticks": ""
             }
            },
            "type": "scatterpolar"
           }
          ],
          "scatterpolargl": [
           {
            "marker": {
             "colorbar": {
              "outlinewidth": 0,
              "ticks": ""
             }
            },
            "type": "scatterpolargl"
           }
          ],
          "scatterternary": [
           {
            "marker": {
             "colorbar": {
              "outlinewidth": 0,
              "ticks": ""
             }
            },
            "type": "scatterternary"
           }
          ],
          "surface": [
           {
            "colorbar": {
             "outlinewidth": 0,
             "ticks": ""
            },
            "colorscale": [
             [
              0,
              "#0d0887"
             ],
             [
              0.1111111111111111,
              "#46039f"
             ],
             [
              0.2222222222222222,
              "#7201a8"
             ],
             [
              0.3333333333333333,
              "#9c179e"
             ],
             [
              0.4444444444444444,
              "#bd3786"
             ],
             [
              0.5555555555555556,
              "#d8576b"
             ],
             [
              0.6666666666666666,
              "#ed7953"
             ],
             [
              0.7777777777777778,
              "#fb9f3a"
             ],
             [
              0.8888888888888888,
              "#fdca26"
             ],
             [
              1,
              "#f0f921"
             ]
            ],
            "type": "surface"
           }
          ],
          "table": [
           {
            "cells": {
             "fill": {
              "color": "#EBF0F8"
             },
             "line": {
              "color": "white"
             }
            },
            "header": {
             "fill": {
              "color": "#C8D4E3"
             },
             "line": {
              "color": "white"
             }
            },
            "type": "table"
           }
          ]
         },
         "layout": {
          "annotationdefaults": {
           "arrowcolor": "#2a3f5f",
           "arrowhead": 0,
           "arrowwidth": 1
          },
          "coloraxis": {
           "colorbar": {
            "outlinewidth": 0,
            "ticks": ""
           }
          },
          "colorscale": {
           "diverging": [
            [
             0,
             "#8e0152"
            ],
            [
             0.1,
             "#c51b7d"
            ],
            [
             0.2,
             "#de77ae"
            ],
            [
             0.3,
             "#f1b6da"
            ],
            [
             0.4,
             "#fde0ef"
            ],
            [
             0.5,
             "#f7f7f7"
            ],
            [
             0.6,
             "#e6f5d0"
            ],
            [
             0.7,
             "#b8e186"
            ],
            [
             0.8,
             "#7fbc41"
            ],
            [
             0.9,
             "#4d9221"
            ],
            [
             1,
             "#276419"
            ]
           ],
           "sequential": [
            [
             0,
             "#0d0887"
            ],
            [
             0.1111111111111111,
             "#46039f"
            ],
            [
             0.2222222222222222,
             "#7201a8"
            ],
            [
             0.3333333333333333,
             "#9c179e"
            ],
            [
             0.4444444444444444,
             "#bd3786"
            ],
            [
             0.5555555555555556,
             "#d8576b"
            ],
            [
             0.6666666666666666,
             "#ed7953"
            ],
            [
             0.7777777777777778,
             "#fb9f3a"
            ],
            [
             0.8888888888888888,
             "#fdca26"
            ],
            [
             1,
             "#f0f921"
            ]
           ],
           "sequentialminus": [
            [
             0,
             "#0d0887"
            ],
            [
             0.1111111111111111,
             "#46039f"
            ],
            [
             0.2222222222222222,
             "#7201a8"
            ],
            [
             0.3333333333333333,
             "#9c179e"
            ],
            [
             0.4444444444444444,
             "#bd3786"
            ],
            [
             0.5555555555555556,
             "#d8576b"
            ],
            [
             0.6666666666666666,
             "#ed7953"
            ],
            [
             0.7777777777777778,
             "#fb9f3a"
            ],
            [
             0.8888888888888888,
             "#fdca26"
            ],
            [
             1,
             "#f0f921"
            ]
           ]
          },
          "colorway": [
           "#636efa",
           "#EF553B",
           "#00cc96",
           "#ab63fa",
           "#FFA15A",
           "#19d3f3",
           "#FF6692",
           "#B6E880",
           "#FF97FF",
           "#FECB52"
          ],
          "font": {
           "color": "#2a3f5f"
          },
          "geo": {
           "bgcolor": "white",
           "lakecolor": "white",
           "landcolor": "#E5ECF6",
           "showlakes": true,
           "showland": true,
           "subunitcolor": "white"
          },
          "hoverlabel": {
           "align": "left"
          },
          "hovermode": "closest",
          "mapbox": {
           "style": "light"
          },
          "paper_bgcolor": "white",
          "plot_bgcolor": "#E5ECF6",
          "polar": {
           "angularaxis": {
            "gridcolor": "white",
            "linecolor": "white",
            "ticks": ""
           },
           "bgcolor": "#E5ECF6",
           "radialaxis": {
            "gridcolor": "white",
            "linecolor": "white",
            "ticks": ""
           }
          },
          "scene": {
           "xaxis": {
            "backgroundcolor": "#E5ECF6",
            "gridcolor": "white",
            "gridwidth": 2,
            "linecolor": "white",
            "showbackground": true,
            "ticks": "",
            "zerolinecolor": "white"
           },
           "yaxis": {
            "backgroundcolor": "#E5ECF6",
            "gridcolor": "white",
            "gridwidth": 2,
            "linecolor": "white",
            "showbackground": true,
            "ticks": "",
            "zerolinecolor": "white"
           },
           "zaxis": {
            "backgroundcolor": "#E5ECF6",
            "gridcolor": "white",
            "gridwidth": 2,
            "linecolor": "white",
            "showbackground": true,
            "ticks": "",
            "zerolinecolor": "white"
           }
          },
          "shapedefaults": {
           "line": {
            "color": "#2a3f5f"
           }
          },
          "ternary": {
           "aaxis": {
            "gridcolor": "white",
            "linecolor": "white",
            "ticks": ""
           },
           "baxis": {
            "gridcolor": "white",
            "linecolor": "white",
            "ticks": ""
           },
           "bgcolor": "#E5ECF6",
           "caxis": {
            "gridcolor": "white",
            "linecolor": "white",
            "ticks": ""
           }
          },
          "title": {
           "x": 0.05
          },
          "xaxis": {
           "automargin": true,
           "gridcolor": "white",
           "linecolor": "white",
           "ticks": "",
           "title": {
            "standoff": 15
           },
           "zerolinecolor": "white",
           "zerolinewidth": 2
          },
          "yaxis": {
           "automargin": true,
           "gridcolor": "white",
           "linecolor": "white",
           "ticks": "",
           "title": {
            "standoff": 15
           },
           "zerolinecolor": "white",
           "zerolinewidth": 2
          }
         }
        },
        "title": {
         "text": "RE2: m_ref = 2e-12 kg, m = [2.e-12 1.e-12] kg alpha = [0.58 0.59] pi, v_ref = 1, q = [ 3.e-12 -4.e-12]"
        },
        "xaxis": {
         "anchor": "y",
         "domain": [
          0,
          1
         ],
         "title": {
          "text": "Position x [m]"
         }
        },
        "yaxis": {
         "anchor": "x",
         "domain": [
          0,
          1
         ],
         "title": {
          "text": "Position y [m]"
         }
        }
       }
      },
      "text/html": [
       "<div>                            <div id=\"b734567f-bd95-42a9-9956-f4a885cdd5b0\" class=\"plotly-graph-div\" style=\"height:525px; width:100%;\"></div>            <script type=\"text/javascript\">                require([\"plotly\"], function(Plotly) {                    window.PLOTLYENV=window.PLOTLYENV || {};                                    if (document.getElementById(\"b734567f-bd95-42a9-9956-f4a885cdd5b0\")) {                    Plotly.newPlot(                        \"b734567f-bd95-42a9-9956-f4a885cdd5b0\",                        [{\"mode\": \"lines+markers\", \"name\": \"Particle 1\", \"opacity\": 0.5, \"type\": \"scatter\", \"x\": [0.0, -0.002158667028716707, -0.0038074013122256422, -0.004980584662792008, -0.005715183930861572, -0.006048861073424071, -0.006018563065898318, -0.005659556066137313, -0.005004829862544241, -0.00408478775101715, -0.002927142444936455, -0.001556951627629376, 3.258349198684415e-06, 0.0017333183546420425, 0.0036152183006234293, 0.00563290245462064, 0.007772069351481699, 0.010019982863409618, 0.012365297888626852, 0.014797902081052949, 0.017308773754858963, 0.01988985532478068, 0.022533941215500244, 0.02523457897115134, 0.027985982236175447, 0.030782954305279005, 0.033620821015914064, 0.03649537185737249, 0.03940280828095901, 0.042339698306445135, 0.045302936625676776, 0.048289709501924474, 0.051297463852049544, 0.05432387997752603, 0.057366847480107126, 0.06042444395907606, 0.06349491614035052, 0.06657666313404029, 0.06966822155720247, 0.0727682522932617, 0.07587552868956379, 0.07898892602043854, 0.0821074120655165, 0.08523003867236277, 0.08835593418918218, 0.09148429666778192, 0.09461438774946658, 0.09774552715735839, 0.10087708772801703, 0.10400849092337817, 0.10713920277111096, 0.1102687301876575, 0.11339661764359034, 0.1165224441356122, 0.11964582043362151, 0.122766386574854, 0.12588380958025555, 0.12899778137100146, 0.13210801686550316, 0.1352142522393799, 0.13831624333275444, 0.14141376419089458, 0.1445066057256906, 0.14759457448675922, 0.15067749153211676, 0.15375519138938726, 0.15682752109942, 0.1598943393349996, 0.1629555155880523, 0.166010929419395, 0.1690604697656475, 0.17210403429844184, 0.17514152883152195, 0.17817286677173935, 0.18119796861031967, 0.18421676145110732, 0.187229178572794, 0.190235159022406, 0.19323464723756742, 0.1962275926952751, 0.19921394958511873, 0.2021936765050583, 0.2051667361780322, 0.20813309518781634, 0.21109272373268695, 0.2140455953955605, 0.21699168692939338, 0.21993097805672396, 0.22286345128232968, 0.22578909171805497, 0.2287078869189404, 0.23161982672985254, 0.23452490314187677, 0.23742311015779202, 0.24031444366599947, 0.24319890132232475, 0.2460764824391575, 0.24894718788143205, 0.2518110199689903, 0.2546679823849015], \"xaxis\": \"x\", \"y\": [0.0, 0.00970067181043878, 0.01935292198079032, 0.02891651469524959, 0.0383593010424424, 0.04765661072360624, 0.0567903559697988, 0.0657480235543095, 0.07452167604446526, 0.08310703447075382, 0.09150267740348376, 0.09970936645208435, 0.10772949328405731, 0.11556663557858499, 0.12322520634937116, 0.13071018086609387, 0.13802688665669405, 0.14518084395443975, 0.15217764598202901, 0.15902287038493831, 0.16572201482208582, 0.17228045115786533, 0.17870339388224327, 0.1849958793411787, 0.19116275312138048, 0.19720866353479935, 0.20313805961968517, 0.20895519244268157, 0.21466411877202318, 0.2202687064131009, 0.22577264066859, 0.23117943151716314, 0.23649242120630276, 0.24171479203273147, 0.24684957414381553, 0.2518996532390995, 0.25686777808609407, 0.2617565677910413, 0.2665685187855353, 0.2713060115050582, 0.27597131674684805, 0.2805666017029289, 0.28509393567028735, 0.2895552954446035, 0.2939525704070467, 0.29828756731574074, 0.30256201481483946, 0.3067775676749139, 0.31093581077868665, 0.31503826286617004, 0.3190863800530535, 0.3230815591358162, 0.32702514069655664, 0.3309184120199755, 0.3347626098343468, 0.33855892288769057, 0.34230849436973104, 0.3460124241896019, 0.34967177111865083, 0.35328755480710844, 0.3568607576828216, 0.360392326739715, 0.3638831752231349, 0.3673341842187493, 0.3707462041512268, 0.3741200561984926, 0.37745653362696435, 0.38075640305279923, 0.38402040563383905, 0.3872492581966186, 0.39044365430250216, 0.39360426525673586, 0.39673174106394377, 0.3998267113333562, 0.40288978613683446, 0.40592155682255054, 0.4089225967869858, 0.41189346220773615, 0.41483469273944457, 0.41774681217502707, 0.4206303290742174, 0.4234857373613208, 0.42631351689394553, 0.4291141340043657, 0.4318880420150621, 0.43463568172989003, 0.4373574819022299, 0.440053859681391, 0.44272522103846035, 0.4453719611727124, 0.44799446489962824, 0.4505931070215075, 0.4531682526815963, 0.4557202577025991, 0.4582494689103901, 0.46075622444369035, 0.4632408540504328, 0.4657036793714934, 0.46814501421242777, 0.4705651648038163], \"yaxis\": \"y\"}, {\"mode\": \"lines+markers\", \"name\": \"Particle 2\", \"opacity\": 0.5, \"type\": \"scatter\", \"x\": [0.0, -0.0030947669654424383, -0.005197656149052583, -0.006405925866360613, -0.006818531632700052, -0.0065304383444154835, -0.005629384709261502, -0.00419441831804701, -0.0022955798215619347, 5.73878165064691e-06, 0.0026560876469270975, 0.00560911074193789, 0.008824677136109444, 0.01226805760091839, 0.01590917762433245, 0.019721957633353937, 0.023683739992795383, 0.027774796663227033, 0.031977908963311624, 0.03627801026337379, 0.04066188277617412, 0.04511790040276356, 0.0496358105504369, 0.05420654881202856, 0.058822081303912144, 0.06347527027078909, 0.06815975926953623, 0.072869874845439, 0.07760054212138051, 0.08234721214548735, 0.08710579919705523, 0.09187262654521193, 0.09664437939943671, 0.10141806399414323, 0.10619097191816956, 0.11096064894017665, 0.1157248676975977, 0.12048160371400882, 0.1252290142909885, 0.12996541988847854, 0.13468928766463853, 0.13939921689407503, 0.14409392602366777, 0.1487722411592771, 0.15343308580544363, 0.15807547170464525, 0.16269849064346803, 0.16730130711076788, 0.17188315170803492, 0.17644331522513088, 0.1809811433056869, 0.1854960316360096, 0.18998742159958124, 0.19445479634635301, 0.19889767723218732, 0.2033156205891412, 0.20770821479192078, 0.21207507758987268, 0.21641585367739855, 0.22073021247875435, 0.2250178461258881, 0.22927846761033047, 0.2335118090922254, 0.23771762035141297, 0.24189566736708332, 0.24604573101394048, 0.2501676058640686, 0.2542610990848045, 0.25832602942390515, 0.2623622262741736, 0.2663695288104846, 0.2703477851928439, 0.27429685182973396, 0.2782165926965482, 0.2821068787044121, 0.2859675871151289, 0.2897986009983839, 0.2935998087276976, 0.29737110351193513, 0.30111238295946896, 0.304823548672348, 0.30850450586806116, 0.3121551630266924, 0.3157754315614552, 0.3193652255107665, 0.32292446125017393, 0.32645305722259366, 0.3299509336854421, 0.3334180124733617, 0.33685421677534605, 0.34025947092516556, 0.3436337002040831, 0.3469768306549267, 0.35028878890666026, 0.35356950200865994, 0.3568188972739616, 0.3600369021308032, 0.36322344398183404, 0.36637845007040964, 0.3695018473534339], \"xaxis\": \"x\", \"y\": [0.0, 0.012828507639046121, 0.025533591829203697, 0.03802153384023655, 0.05022516495795314, 0.062099333340445255, 0.07361619136642071, 0.08476095005913481, 0.09552835417774255, 0.10591990371639652, 0.1159417395204674, 0.12560307433526086, 0.1349150507979939, 0.14388992347050045, 0.15254048176928264, 0.16087964940538246, 0.16892021177920322, 0.1766746353408231, 0.18415495254355174, 0.19137269321539307, 0.19833884848222924, 0.2050638572573664, 0.2115576081323505, 0.21782945154600444, 0.22388821858380584, 0.2297422438237851, 0.23539939041176816, 0.24086707610051233, 0.24615229938375616, 0.25126166514050535, 0.25620140940811265, 0.2609774230473345, 0.2655952741648015, 0.2700602292299623, 0.27437727287307423, 0.2785511263843821, 0.28258626495674355, 0.28648693372787704, 0.2902571626864997, 0.293900780510607, 0.29742142740727456, 0.30082256702254273, 0.30410749748782584, 0.3072793616663497, 0.3103411566596901, 0.31329574263080706, 0.31614585099621045, 0.3188940920361599, 0.32154296196818427, 0.32409484952574075, 0.3265520420805597, 0.32891673134414673, 0.3311910186810502, 0.3333769200638457, 0.33547637069733405, 0.3374912293371871, 0.339423282326199, 0.3412742473693904, 0.34304577706746814, 0.3447394622265423, 0.3463568349605385, 0.34789937160140755, 0.34936849543100984, 0.3507655792474361, 0.3520919477775045, 0.3533488799462405, 0.3545376110132935, 0.35565933458546445, 0.3567152045138036, 0.35770633668308655, 0.3586338107008777, 0.3594986714928435, 0.3603019308104752, 0.3610445686569219, 0.3617275346362116, 0.3623517492307507, 0.36291810501163707, 0.36342746778599344, 0.36388067768522825, 0.364278550197853, 0.36462187715023103, 0.36491142763839707, 0.3651479489138703, 0.3653321672261842, 0.3654647886246708, 0.3655464997218675, 0.36557796842075657, 0.3655598446079009, 0.3654927608144058, 0.3653773328465102, 0.3652141603874963, 0.3650038275724975, 0.3647469035376858, 0.3644439429452275, 0.36409548648530865, 0.3637020613564533, 0.3632641817252816, 0.3627823491667876, 0.3622570530861498, 0.3616887711230295], \"yaxis\": \"y\"}, {\"name\": \"Reference particle\", \"type\": \"scatter\", \"x\": [0.0999, 0.10010000000000001], \"xaxis\": \"x\", \"y\": [0, 0], \"yaxis\": \"y\"}, {\"name\": \"Golf hole\", \"type\": \"scatter\", \"x\": [0, 0], \"xaxis\": \"x\", \"y\": [0.099, 0.101], \"yaxis\": \"y\"}],                        {\"template\": {\"data\": {\"bar\": [{\"error_x\": {\"color\": \"#2a3f5f\"}, \"error_y\": {\"color\": \"#2a3f5f\"}, \"marker\": {\"line\": {\"color\": \"#E5ECF6\", \"width\": 0.5}}, \"type\": \"bar\"}], \"barpolar\": [{\"marker\": {\"line\": {\"color\": \"#E5ECF6\", \"width\": 0.5}}, \"type\": \"barpolar\"}], \"carpet\": [{\"aaxis\": {\"endlinecolor\": \"#2a3f5f\", \"gridcolor\": \"white\", \"linecolor\": \"white\", \"minorgridcolor\": \"white\", \"startlinecolor\": \"#2a3f5f\"}, \"baxis\": {\"endlinecolor\": \"#2a3f5f\", \"gridcolor\": \"white\", \"linecolor\": \"white\", \"minorgridcolor\": \"white\", \"startlinecolor\": \"#2a3f5f\"}, \"type\": \"carpet\"}], \"choropleth\": [{\"colorbar\": {\"outlinewidth\": 0, \"ticks\": \"\"}, \"type\": \"choropleth\"}], \"contour\": [{\"colorbar\": {\"outlinewidth\": 0, \"ticks\": \"\"}, \"colorscale\": [[0.0, \"#0d0887\"], [0.1111111111111111, \"#46039f\"], [0.2222222222222222, \"#7201a8\"], [0.3333333333333333, \"#9c179e\"], [0.4444444444444444, \"#bd3786\"], [0.5555555555555556, \"#d8576b\"], [0.6666666666666666, \"#ed7953\"], [0.7777777777777778, \"#fb9f3a\"], [0.8888888888888888, \"#fdca26\"], [1.0, \"#f0f921\"]], \"type\": \"contour\"}], \"contourcarpet\": [{\"colorbar\": {\"outlinewidth\": 0, \"ticks\": \"\"}, \"type\": \"contourcarpet\"}], \"heatmap\": [{\"colorbar\": {\"outlinewidth\": 0, \"ticks\": \"\"}, \"colorscale\": [[0.0, \"#0d0887\"], [0.1111111111111111, \"#46039f\"], [0.2222222222222222, \"#7201a8\"], [0.3333333333333333, \"#9c179e\"], [0.4444444444444444, \"#bd3786\"], [0.5555555555555556, \"#d8576b\"], [0.6666666666666666, \"#ed7953\"], [0.7777777777777778, \"#fb9f3a\"], [0.8888888888888888, \"#fdca26\"], [1.0, \"#f0f921\"]], \"type\": \"heatmap\"}], \"heatmapgl\": [{\"colorbar\": {\"outlinewidth\": 0, \"ticks\": \"\"}, \"colorscale\": [[0.0, \"#0d0887\"], [0.1111111111111111, \"#46039f\"], [0.2222222222222222, \"#7201a8\"], [0.3333333333333333, \"#9c179e\"], [0.4444444444444444, \"#bd3786\"], [0.5555555555555556, \"#d8576b\"], [0.6666666666666666, \"#ed7953\"], [0.7777777777777778, \"#fb9f3a\"], [0.8888888888888888, \"#fdca26\"], [1.0, \"#f0f921\"]], \"type\": \"heatmapgl\"}], \"histogram\": [{\"marker\": {\"colorbar\": {\"outlinewidth\": 0, \"ticks\": \"\"}}, \"type\": \"histogram\"}], \"histogram2d\": [{\"colorbar\": {\"outlinewidth\": 0, \"ticks\": \"\"}, \"colorscale\": [[0.0, \"#0d0887\"], [0.1111111111111111, \"#46039f\"], [0.2222222222222222, \"#7201a8\"], [0.3333333333333333, \"#9c179e\"], [0.4444444444444444, \"#bd3786\"], [0.5555555555555556, \"#d8576b\"], [0.6666666666666666, \"#ed7953\"], [0.7777777777777778, \"#fb9f3a\"], [0.8888888888888888, \"#fdca26\"], [1.0, \"#f0f921\"]], \"type\": \"histogram2d\"}], \"histogram2dcontour\": [{\"colorbar\": {\"outlinewidth\": 0, \"ticks\": \"\"}, \"colorscale\": [[0.0, \"#0d0887\"], [0.1111111111111111, \"#46039f\"], [0.2222222222222222, \"#7201a8\"], [0.3333333333333333, \"#9c179e\"], [0.4444444444444444, \"#bd3786\"], [0.5555555555555556, \"#d8576b\"], [0.6666666666666666, \"#ed7953\"], [0.7777777777777778, \"#fb9f3a\"], [0.8888888888888888, \"#fdca26\"], [1.0, \"#f0f921\"]], \"type\": \"histogram2dcontour\"}], \"mesh3d\": [{\"colorbar\": {\"outlinewidth\": 0, \"ticks\": \"\"}, \"type\": \"mesh3d\"}], \"parcoords\": [{\"line\": {\"colorbar\": {\"outlinewidth\": 0, \"ticks\": \"\"}}, \"type\": \"parcoords\"}], \"pie\": [{\"automargin\": true, \"type\": \"pie\"}], \"scatter\": [{\"marker\": {\"colorbar\": {\"outlinewidth\": 0, \"ticks\": \"\"}}, \"type\": \"scatter\"}], \"scatter3d\": [{\"line\": {\"colorbar\": {\"outlinewidth\": 0, \"ticks\": \"\"}}, \"marker\": {\"colorbar\": {\"outlinewidth\": 0, \"ticks\": \"\"}}, \"type\": \"scatter3d\"}], \"scattercarpet\": [{\"marker\": {\"colorbar\": {\"outlinewidth\": 0, \"ticks\": \"\"}}, \"type\": \"scattercarpet\"}], \"scattergeo\": [{\"marker\": {\"colorbar\": {\"outlinewidth\": 0, \"ticks\": \"\"}}, \"type\": \"scattergeo\"}], \"scattergl\": [{\"marker\": {\"colorbar\": {\"outlinewidth\": 0, \"ticks\": \"\"}}, \"type\": \"scattergl\"}], \"scattermapbox\": [{\"marker\": {\"colorbar\": {\"outlinewidth\": 0, \"ticks\": \"\"}}, \"type\": \"scattermapbox\"}], \"scatterpolar\": [{\"marker\": {\"colorbar\": {\"outlinewidth\": 0, \"ticks\": \"\"}}, \"type\": \"scatterpolar\"}], \"scatterpolargl\": [{\"marker\": {\"colorbar\": {\"outlinewidth\": 0, \"ticks\": \"\"}}, \"type\": \"scatterpolargl\"}], \"scatterternary\": [{\"marker\": {\"colorbar\": {\"outlinewidth\": 0, \"ticks\": \"\"}}, \"type\": \"scatterternary\"}], \"surface\": [{\"colorbar\": {\"outlinewidth\": 0, \"ticks\": \"\"}, \"colorscale\": [[0.0, \"#0d0887\"], [0.1111111111111111, \"#46039f\"], [0.2222222222222222, \"#7201a8\"], [0.3333333333333333, \"#9c179e\"], [0.4444444444444444, \"#bd3786\"], [0.5555555555555556, \"#d8576b\"], [0.6666666666666666, \"#ed7953\"], [0.7777777777777778, \"#fb9f3a\"], [0.8888888888888888, \"#fdca26\"], [1.0, \"#f0f921\"]], \"type\": \"surface\"}], \"table\": [{\"cells\": {\"fill\": {\"color\": \"#EBF0F8\"}, \"line\": {\"color\": \"white\"}}, \"header\": {\"fill\": {\"color\": \"#C8D4E3\"}, \"line\": {\"color\": \"white\"}}, \"type\": \"table\"}]}, \"layout\": {\"annotationdefaults\": {\"arrowcolor\": \"#2a3f5f\", \"arrowhead\": 0, \"arrowwidth\": 1}, \"coloraxis\": {\"colorbar\": {\"outlinewidth\": 0, \"ticks\": \"\"}}, \"colorscale\": {\"diverging\": [[0, \"#8e0152\"], [0.1, \"#c51b7d\"], [0.2, \"#de77ae\"], [0.3, \"#f1b6da\"], [0.4, \"#fde0ef\"], [0.5, \"#f7f7f7\"], [0.6, \"#e6f5d0\"], [0.7, \"#b8e186\"], [0.8, \"#7fbc41\"], [0.9, \"#4d9221\"], [1, \"#276419\"]], \"sequential\": [[0.0, \"#0d0887\"], [0.1111111111111111, \"#46039f\"], [0.2222222222222222, \"#7201a8\"], [0.3333333333333333, \"#9c179e\"], [0.4444444444444444, \"#bd3786\"], [0.5555555555555556, \"#d8576b\"], [0.6666666666666666, \"#ed7953\"], [0.7777777777777778, \"#fb9f3a\"], [0.8888888888888888, \"#fdca26\"], [1.0, \"#f0f921\"]], \"sequentialminus\": [[0.0, \"#0d0887\"], [0.1111111111111111, \"#46039f\"], [0.2222222222222222, \"#7201a8\"], [0.3333333333333333, \"#9c179e\"], [0.4444444444444444, \"#bd3786\"], [0.5555555555555556, \"#d8576b\"], [0.6666666666666666, \"#ed7953\"], [0.7777777777777778, \"#fb9f3a\"], [0.8888888888888888, \"#fdca26\"], [1.0, \"#f0f921\"]]}, \"colorway\": [\"#636efa\", \"#EF553B\", \"#00cc96\", \"#ab63fa\", \"#FFA15A\", \"#19d3f3\", \"#FF6692\", \"#B6E880\", \"#FF97FF\", \"#FECB52\"], \"font\": {\"color\": \"#2a3f5f\"}, \"geo\": {\"bgcolor\": \"white\", \"lakecolor\": \"white\", \"landcolor\": \"#E5ECF6\", \"showlakes\": true, \"showland\": true, \"subunitcolor\": \"white\"}, \"hoverlabel\": {\"align\": \"left\"}, \"hovermode\": \"closest\", \"mapbox\": {\"style\": \"light\"}, \"paper_bgcolor\": \"white\", \"plot_bgcolor\": \"#E5ECF6\", \"polar\": {\"angularaxis\": {\"gridcolor\": \"white\", \"linecolor\": \"white\", \"ticks\": \"\"}, \"bgcolor\": \"#E5ECF6\", \"radialaxis\": {\"gridcolor\": \"white\", \"linecolor\": \"white\", \"ticks\": \"\"}}, \"scene\": {\"xaxis\": {\"backgroundcolor\": \"#E5ECF6\", \"gridcolor\": \"white\", \"gridwidth\": 2, \"linecolor\": \"white\", \"showbackground\": true, \"ticks\": \"\", \"zerolinecolor\": \"white\"}, \"yaxis\": {\"backgroundcolor\": \"#E5ECF6\", \"gridcolor\": \"white\", \"gridwidth\": 2, \"linecolor\": \"white\", \"showbackground\": true, \"ticks\": \"\", \"zerolinecolor\": \"white\"}, \"zaxis\": {\"backgroundcolor\": \"#E5ECF6\", \"gridcolor\": \"white\", \"gridwidth\": 2, \"linecolor\": \"white\", \"showbackground\": true, \"ticks\": \"\", \"zerolinecolor\": \"white\"}}, \"shapedefaults\": {\"line\": {\"color\": \"#2a3f5f\"}}, \"ternary\": {\"aaxis\": {\"gridcolor\": \"white\", \"linecolor\": \"white\", \"ticks\": \"\"}, \"baxis\": {\"gridcolor\": \"white\", \"linecolor\": \"white\", \"ticks\": \"\"}, \"bgcolor\": \"#E5ECF6\", \"caxis\": {\"gridcolor\": \"white\", \"linecolor\": \"white\", \"ticks\": \"\"}}, \"title\": {\"x\": 0.05}, \"xaxis\": {\"automargin\": true, \"gridcolor\": \"white\", \"linecolor\": \"white\", \"ticks\": \"\", \"title\": {\"standoff\": 15}, \"zerolinecolor\": \"white\", \"zerolinewidth\": 2}, \"yaxis\": {\"automargin\": true, \"gridcolor\": \"white\", \"linecolor\": \"white\", \"ticks\": \"\", \"title\": {\"standoff\": 15}, \"zerolinecolor\": \"white\", \"zerolinewidth\": 2}}}, \"title\": {\"text\": \"RE2: m_ref = 2e-12 kg, m = [2.e-12 1.e-12] kg alpha = [0.58 0.59] pi, v_ref = 1, q = [ 3.e-12 -4.e-12]\"}, \"xaxis\": {\"anchor\": \"y\", \"domain\": [0.0, 1.0], \"title\": {\"text\": \"Position x [m]\"}}, \"yaxis\": {\"anchor\": \"x\", \"domain\": [0.0, 1.0], \"title\": {\"text\": \"Position y [m]\"}}},                        {\"responsive\": true}                    ).then(function(){\n",
       "                            \n",
       "var gd = document.getElementById('b734567f-bd95-42a9-9956-f4a885cdd5b0');\n",
       "var x = new MutationObserver(function (mutations, observer) {{\n",
       "        var display = window.getComputedStyle(gd).display;\n",
       "        if (!display || display === 'none') {{\n",
       "            console.log([gd, 'removed!']);\n",
       "            Plotly.purge(gd);\n",
       "            observer.disconnect();\n",
       "        }}\n",
       "}});\n",
       "\n",
       "// Listen for the removal of the full notebook cells\n",
       "var notebookContainer = gd.closest('#notebook-container');\n",
       "if (notebookContainer) {{\n",
       "    x.observe(notebookContainer, {childList: true});\n",
       "}}\n",
       "\n",
       "// Listen for the clearing of the current output cell\n",
       "var outputEl = gd.closest('.output');\n",
       "if (outputEl) {{\n",
       "    x.observe(outputEl, {childList: true});\n",
       "}}\n",
       "\n",
       "                        })                };                });            </script>        </div>"
      ]
     },
     "metadata": {},
     "output_type": "display_data"
    }
   ],
   "source": [
    "req.set_initial_state()\n",
    "req.alpha = alpha_star.x\n",
    "req.run()\n",
    "req.visualize(.1)"
   ]
  },
  {
   "cell_type": "code",
   "execution_count": null,
   "metadata": {},
   "outputs": [],
   "source": []
  }
 ],
 "metadata": {
  "hide_input": false,
  "kernelspec": {
   "display_name": "Python 3",
   "language": "python",
   "name": "python3"
  },
  "language_info": {
   "codemirror_mode": {
    "name": "ipython",
    "version": 3
   },
   "file_extension": ".py",
   "mimetype": "text/x-python",
   "name": "python",
   "nbconvert_exporter": "python",
   "pygments_lexer": "ipython3",
   "version": "3.7.9"
  }
 },
 "nbformat": 4,
 "nbformat_minor": 4
}
