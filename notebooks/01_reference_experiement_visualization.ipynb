{
 "cells": [
  {
   "cell_type": "code",
   "execution_count": 1,
   "metadata": {},
   "outputs": [],
   "source": [
    "import os\n",
    "os.chdir('..')\n",
    "%load_ext autoreload\n",
    "%autoreload 2"
   ]
  },
  {
   "cell_type": "code",
   "execution_count": 102,
   "metadata": {},
   "outputs": [],
   "source": [
    "from comm_agents.data.reference_experiments import RefExperimentMass, RefExperimentCharge\n",
    "from comm_agents.data.optimal_answers import get_alpha_star, get_phi_star\n",
    "from ipywidgets import interact\n",
    "import numpy as  np"
   ]
  },
  {
   "cell_type": "code",
   "execution_count": 97,
   "metadata": {},
   "outputs": [],
   "source": [
    "# experiment parameters\n",
    "GOLF_HOLE_LOC_M = 0.1\n",
    "GOLF_HOLE_LOC_C = 1\n",
    "PARAM_DICT = dict(\n",
    "    m=[1e-20, 1e-20],\n",
    "    q=[3e-12, -3e-12],\n",
    "    m_ref=2e-12,\n",
    "    v_ref=1,\n",
    "    N=100,\n",
    "    alpha=[0, 0],\n",
    "    phi=[0, 0],\n",
    "    dt=.01,\n",
    "    d=.1,\n",
    "    gravity=True)"
   ]
  },
  {
   "cell_type": "code",
   "execution_count": 114,
   "metadata": {},
   "outputs": [],
   "source": [
    "alpha_range_re1 = np.linspace(0, 0.6, 20)\n",
    "m_range_re1 = np.linspace(1e-20, 1e-12, 20)\n",
    "alpha_range_re2 = np.linspace(0.5, 1, 20)\n",
    "q_range_re2_1 = np.linspace(1e-16, 1e-14, 20)\n",
    "q_range_re2_2 = np.linspace(-1e-16, -1e-14, 20)\n",
    "N_reange = [100, 1000, 10000]"
   ]
  },
  {
   "cell_type": "code",
   "execution_count": 115,
   "metadata": {},
   "outputs": [
    {
     "data": {
      "application/vnd.jupyter.widget-view+json": {
       "model_id": "83b057d242274148952ecf7068bd60d1",
       "version_major": 2,
       "version_minor": 0
      },
      "text/plain": [
       "interactive(children=(Dropdown(description='alpha1', options=(0.0, 0.031578947368421054, 0.06315789473684211, …"
      ]
     },
     "metadata": {},
     "output_type": "display_data"
    },
    {
     "data": {
      "text/plain": [
       "<function __main__.get_re1_plot(alpha1, alpha2, m1, m2, N, alpha_star)>"
      ]
     },
     "execution_count": 115,
     "metadata": {},
     "output_type": "execute_result"
    }
   ],
   "source": [
    "def get_re1_plot(alpha1, alpha2, m1, m2, N, alpha_star):\n",
    "    rem = RefExperimentMass(**PARAM_DICT)\n",
    "    rem.N = N\n",
    "    rem.angle = np.array([alpha1*np.pi, alpha2*np.pi])\n",
    "    rem.m = np.array([m1, m2])\n",
    "    if alpha_star:\n",
    "        rem.angle = get_alpha_star(rem)\n",
    "    rem.set_initial_state()\n",
    "    rem.run()\n",
    "    rem.visualize(golf_hole_loc=GOLF_HOLE_LOC_M)\n",
    "    \n",
    "interact(get_re1_plot, alpha1=alpha_range_re1, alpha2=alpha_range_re1,\n",
    "         m1=m_range_re1, m2=m_range_re1, N=N_reange, alpha_star=False)"
   ]
  },
  {
   "cell_type": "code",
   "execution_count": 117,
   "metadata": {},
   "outputs": [
    {
     "data": {
      "application/vnd.jupyter.widget-view+json": {
       "model_id": "6f203ba445734a938b82685bd6b74566",
       "version_major": 2,
       "version_minor": 0
      },
      "text/plain": [
       "interactive(children=(Dropdown(description='phi1', options=(0.5, 0.5263157894736842, 0.5526315789473684, 0.578…"
      ]
     },
     "metadata": {},
     "output_type": "display_data"
    },
    {
     "data": {
      "text/plain": [
       "<function __main__.get_re2_plot(phi1=0.5, phi2=0.63, q1=4e-12, q2=-3e-12, N=100, phi_star=False)>"
      ]
     },
     "execution_count": 117,
     "metadata": {},
     "output_type": "execute_result"
    }
   ],
   "source": [
    "def get_re2_plot(phi1=.5, phi2=.63, q1=4e-12, q2=-3e-12, N=100, phi_star=False):\n",
    "    req = RefExperimentCharge(**PARAM_DICT)\n",
    "    req.N = N\n",
    "    req.angle = np.array([phi1*np.pi, phi2*np.pi])\n",
    "    req.q = np.array([q1, q2])\n",
    "    if phi_star:\n",
    "        req.angle = get_phi_star(req)\n",
    "    req.set_initial_state()\n",
    "    req.run()\n",
    "    req.visualize(golf_hole_loc=.1)\n",
    "interact(get_re2_plot, phi1=alpha_range_re2, phi2=alpha_range_re2,\n",
    "        q1=q_range_re2_1, q2=q_range_re2_2, N=N_reange, phi_star=False)"
   ]
  },
  {
   "cell_type": "code",
   "execution_count": 78,
   "metadata": {},
   "outputs": [
    {
     "name": "stderr",
     "output_type": "stream",
     "text": [
      "2020-10-12 20:29:22.399 | DEBUG    | comm_agents.data.optimal_answers:get_single_charge_loss_value:30 - Particle 0 did not cross line with x=0\n",
      "2020-10-12 20:29:22.400 | DEBUG    | comm_agents.data.optimal_answers:get_single_charge_loss_value:30 - Particle 1 did not cross line with x=0\n",
      "2020-10-12 20:29:22.405 | DEBUG    | comm_agents.data.optimal_answers:get_single_charge_loss_value:30 - Particle 0 did not cross line with x=0\n",
      "2020-10-12 20:29:22.406 | DEBUG    | comm_agents.data.optimal_answers:get_single_charge_loss_value:30 - Particle 1 did not cross line with x=0\n",
      "2020-10-12 20:29:22.413 | DEBUG    | comm_agents.data.optimal_answers:get_single_charge_loss_value:30 - Particle 0 did not cross line with x=0\n",
      "2020-10-12 20:29:22.413 | DEBUG    | comm_agents.data.optimal_answers:get_single_charge_loss_value:30 - Particle 1 did not cross line with x=0\n",
      "2020-10-12 20:29:22.419 | DEBUG    | comm_agents.data.optimal_answers:get_single_charge_loss_value:30 - Particle 0 did not cross line with x=0\n",
      "2020-10-12 20:29:22.420 | DEBUG    | comm_agents.data.optimal_answers:get_single_charge_loss_value:30 - Particle 1 did not cross line with x=0\n",
      "2020-10-12 20:29:22.427 | DEBUG    | comm_agents.data.optimal_answers:get_single_charge_loss_value:30 - Particle 0 did not cross line with x=0\n",
      "2020-10-12 20:29:22.427 | DEBUG    | comm_agents.data.optimal_answers:get_single_charge_loss_value:30 - Particle 1 did not cross line with x=0\n",
      "2020-10-12 20:29:22.433 | DEBUG    | comm_agents.data.optimal_answers:get_single_charge_loss_value:30 - Particle 0 did not cross line with x=0\n",
      "2020-10-12 20:29:22.434 | DEBUG    | comm_agents.data.optimal_answers:get_single_charge_loss_value:30 - Particle 1 did not cross line with x=0\n",
      "2020-10-12 20:29:22.441 | DEBUG    | comm_agents.data.optimal_answers:get_single_charge_loss_value:30 - Particle 0 did not cross line with x=0\n",
      "2020-10-12 20:29:22.443 | DEBUG    | comm_agents.data.optimal_answers:get_single_charge_loss_value:30 - Particle 1 did not cross line with x=0\n",
      "2020-10-12 20:29:22.450 | DEBUG    | comm_agents.data.optimal_answers:get_single_charge_loss_value:30 - Particle 0 did not cross line with x=0\n",
      "2020-10-12 20:29:22.451 | DEBUG    | comm_agents.data.optimal_answers:get_single_charge_loss_value:30 - Particle 1 did not cross line with x=0\n",
      "2020-10-12 20:29:22.457 | DEBUG    | comm_agents.data.optimal_answers:get_single_charge_loss_value:30 - Particle 0 did not cross line with x=0\n",
      "2020-10-12 20:29:22.459 | DEBUG    | comm_agents.data.optimal_answers:get_single_charge_loss_value:30 - Particle 1 did not cross line with x=0\n",
      "2020-10-12 20:29:22.468 | DEBUG    | comm_agents.data.optimal_answers:get_single_charge_loss_value:30 - Particle 0 did not cross line with x=0\n",
      "2020-10-12 20:29:22.469 | DEBUG    | comm_agents.data.optimal_answers:get_single_charge_loss_value:30 - Particle 1 did not cross line with x=0\n",
      "2020-10-12 20:29:22.477 | DEBUG    | comm_agents.data.optimal_answers:get_single_charge_loss_value:30 - Particle 0 did not cross line with x=0\n",
      "2020-10-12 20:29:22.479 | DEBUG    | comm_agents.data.optimal_answers:get_single_charge_loss_value:30 - Particle 1 did not cross line with x=0\n",
      "2020-10-12 20:29:22.488 | DEBUG    | comm_agents.data.optimal_answers:get_single_charge_loss_value:30 - Particle 0 did not cross line with x=0\n",
      "2020-10-12 20:29:22.488 | DEBUG    | comm_agents.data.optimal_answers:get_single_charge_loss_value:30 - Particle 1 did not cross line with x=0\n",
      "2020-10-12 20:29:22.497 | DEBUG    | comm_agents.data.optimal_answers:get_single_charge_loss_value:30 - Particle 0 did not cross line with x=0\n",
      "2020-10-12 20:29:22.498 | DEBUG    | comm_agents.data.optimal_answers:get_single_charge_loss_value:30 - Particle 1 did not cross line with x=0\n",
      "2020-10-12 20:29:22.505 | DEBUG    | comm_agents.data.optimal_answers:get_single_charge_loss_value:30 - Particle 0 did not cross line with x=0\n",
      "2020-10-12 20:29:22.506 | DEBUG    | comm_agents.data.optimal_answers:get_single_charge_loss_value:30 - Particle 1 did not cross line with x=0\n",
      "2020-10-12 20:29:22.513 | DEBUG    | comm_agents.data.optimal_answers:get_single_charge_loss_value:30 - Particle 0 did not cross line with x=0\n",
      "2020-10-12 20:29:22.514 | DEBUG    | comm_agents.data.optimal_answers:get_single_charge_loss_value:30 - Particle 1 did not cross line with x=0\n",
      "2020-10-12 20:29:22.520 | DEBUG    | comm_agents.data.optimal_answers:get_single_charge_loss_value:30 - Particle 0 did not cross line with x=0\n",
      "2020-10-12 20:29:22.521 | DEBUG    | comm_agents.data.optimal_answers:get_single_charge_loss_value:30 - Particle 1 did not cross line with x=0\n",
      "2020-10-12 20:29:22.527 | DEBUG    | comm_agents.data.optimal_answers:get_single_charge_loss_value:30 - Particle 0 did not cross line with x=0\n",
      "2020-10-12 20:29:22.529 | DEBUG    | comm_agents.data.optimal_answers:get_single_charge_loss_value:30 - Particle 1 did not cross line with x=0\n",
      "2020-10-12 20:29:22.536 | DEBUG    | comm_agents.data.optimal_answers:get_single_charge_loss_value:30 - Particle 0 did not cross line with x=0\n",
      "2020-10-12 20:29:22.537 | DEBUG    | comm_agents.data.optimal_answers:get_single_charge_loss_value:30 - Particle 1 did not cross line with x=0\n",
      "2020-10-12 20:29:22.544 | DEBUG    | comm_agents.data.optimal_answers:get_single_charge_loss_value:30 - Particle 0 did not cross line with x=0\n",
      "2020-10-12 20:29:22.544 | DEBUG    | comm_agents.data.optimal_answers:get_single_charge_loss_value:30 - Particle 1 did not cross line with x=0\n",
      "2020-10-12 20:29:22.550 | DEBUG    | comm_agents.data.optimal_answers:get_single_charge_loss_value:30 - Particle 0 did not cross line with x=0\n",
      "2020-10-12 20:29:22.551 | DEBUG    | comm_agents.data.optimal_answers:get_single_charge_loss_value:30 - Particle 1 did not cross line with x=0\n",
      "2020-10-12 20:29:22.561 | DEBUG    | comm_agents.data.optimal_answers:get_single_charge_loss_value:30 - Particle 0 did not cross line with x=0\n",
      "2020-10-12 20:29:22.562 | DEBUG    | comm_agents.data.optimal_answers:get_single_charge_loss_value:30 - Particle 1 did not cross line with x=0\n",
      "2020-10-12 20:29:22.569 | DEBUG    | comm_agents.data.optimal_answers:get_single_charge_loss_value:30 - Particle 0 did not cross line with x=0\n",
      "2020-10-12 20:29:22.570 | DEBUG    | comm_agents.data.optimal_answers:get_single_charge_loss_value:30 - Particle 1 did not cross line with x=0\n",
      "2020-10-12 20:29:22.579 | DEBUG    | comm_agents.data.optimal_answers:get_single_charge_loss_value:30 - Particle 0 did not cross line with x=0\n",
      "2020-10-12 20:29:22.581 | DEBUG    | comm_agents.data.optimal_answers:get_single_charge_loss_value:30 - Particle 1 did not cross line with x=0\n",
      "2020-10-12 20:29:22.591 | DEBUG    | comm_agents.data.optimal_answers:get_single_charge_loss_value:30 - Particle 0 did not cross line with x=0\n",
      "2020-10-12 20:29:22.591 | DEBUG    | comm_agents.data.optimal_answers:get_single_charge_loss_value:30 - Particle 1 did not cross line with x=0\n",
      "2020-10-12 20:29:22.599 | DEBUG    | comm_agents.data.optimal_answers:get_single_charge_loss_value:30 - Particle 0 did not cross line with x=0\n",
      "2020-10-12 20:29:22.601 | DEBUG    | comm_agents.data.optimal_answers:get_single_charge_loss_value:30 - Particle 1 did not cross line with x=0\n",
      "2020-10-12 20:29:22.608 | DEBUG    | comm_agents.data.optimal_answers:get_single_charge_loss_value:30 - Particle 0 did not cross line with x=0\n",
      "2020-10-12 20:29:22.609 | DEBUG    | comm_agents.data.optimal_answers:get_single_charge_loss_value:30 - Particle 1 did not cross line with x=0\n",
      "2020-10-12 20:29:22.616 | DEBUG    | comm_agents.data.optimal_answers:get_single_charge_loss_value:30 - Particle 0 did not cross line with x=0\n",
      "2020-10-12 20:29:22.617 | DEBUG    | comm_agents.data.optimal_answers:get_single_charge_loss_value:30 - Particle 1 did not cross line with x=0\n",
      "2020-10-12 20:29:22.624 | DEBUG    | comm_agents.data.optimal_answers:get_single_charge_loss_value:30 - Particle 0 did not cross line with x=0\n",
      "2020-10-12 20:29:22.626 | DEBUG    | comm_agents.data.optimal_answers:get_single_charge_loss_value:30 - Particle 1 did not cross line with x=0\n",
      "2020-10-12 20:29:22.637 | DEBUG    | comm_agents.data.optimal_answers:get_single_charge_loss_value:30 - Particle 0 did not cross line with x=0\n",
      "2020-10-12 20:29:22.638 | DEBUG    | comm_agents.data.optimal_answers:get_single_charge_loss_value:30 - Particle 1 did not cross line with x=0\n"
     ]
    },
    {
     "name": "stderr",
     "output_type": "stream",
     "text": [
      "2020-10-12 20:29:22.646 | DEBUG    | comm_agents.data.optimal_answers:get_single_charge_loss_value:30 - Particle 0 did not cross line with x=0\n",
      "2020-10-12 20:29:22.648 | DEBUG    | comm_agents.data.optimal_answers:get_single_charge_loss_value:30 - Particle 1 did not cross line with x=0\n",
      "2020-10-12 20:29:22.656 | DEBUG    | comm_agents.data.optimal_answers:get_single_charge_loss_value:30 - Particle 0 did not cross line with x=0\n",
      "2020-10-12 20:29:22.657 | DEBUG    | comm_agents.data.optimal_answers:get_single_charge_loss_value:30 - Particle 1 did not cross line with x=0\n",
      "2020-10-12 20:29:22.664 | DEBUG    | comm_agents.data.optimal_answers:get_single_charge_loss_value:30 - Particle 0 did not cross line with x=0\n",
      "2020-10-12 20:29:22.665 | DEBUG    | comm_agents.data.optimal_answers:get_single_charge_loss_value:30 - Particle 1 did not cross line with x=0\n",
      "2020-10-12 20:29:22.672 | DEBUG    | comm_agents.data.optimal_answers:get_single_charge_loss_value:30 - Particle 0 did not cross line with x=0\n",
      "2020-10-12 20:29:22.673 | DEBUG    | comm_agents.data.optimal_answers:get_single_charge_loss_value:30 - Particle 1 did not cross line with x=0\n",
      "2020-10-12 20:29:22.683 | DEBUG    | comm_agents.data.optimal_answers:get_single_charge_loss_value:30 - Particle 0 did not cross line with x=0\n",
      "2020-10-12 20:29:22.684 | DEBUG    | comm_agents.data.optimal_answers:get_single_charge_loss_value:30 - Particle 1 did not cross line with x=0\n",
      "2020-10-12 20:29:22.691 | DEBUG    | comm_agents.data.optimal_answers:get_single_charge_loss_value:30 - Particle 0 did not cross line with x=0\n",
      "2020-10-12 20:29:22.692 | DEBUG    | comm_agents.data.optimal_answers:get_single_charge_loss_value:30 - Particle 1 did not cross line with x=0\n",
      "2020-10-12 20:29:22.700 | DEBUG    | comm_agents.data.optimal_answers:get_single_charge_loss_value:30 - Particle 0 did not cross line with x=0\n",
      "2020-10-12 20:29:22.702 | DEBUG    | comm_agents.data.optimal_answers:get_single_charge_loss_value:30 - Particle 1 did not cross line with x=0\n",
      "2020-10-12 20:29:22.712 | DEBUG    | comm_agents.data.optimal_answers:get_single_charge_loss_value:30 - Particle 0 did not cross line with x=0\n",
      "2020-10-12 20:29:22.712 | DEBUG    | comm_agents.data.optimal_answers:get_single_charge_loss_value:30 - Particle 1 did not cross line with x=0\n",
      "2020-10-12 20:29:22.720 | DEBUG    | comm_agents.data.optimal_answers:get_single_charge_loss_value:30 - Particle 0 did not cross line with x=0\n",
      "2020-10-12 20:29:22.720 | DEBUG    | comm_agents.data.optimal_answers:get_single_charge_loss_value:30 - Particle 1 did not cross line with x=0\n",
      "2020-10-12 20:29:22.728 | DEBUG    | comm_agents.data.optimal_answers:get_single_charge_loss_value:30 - Particle 0 did not cross line with x=0\n",
      "2020-10-12 20:29:22.729 | DEBUG    | comm_agents.data.optimal_answers:get_single_charge_loss_value:30 - Particle 1 did not cross line with x=0\n",
      "2020-10-12 20:29:22.736 | DEBUG    | comm_agents.data.optimal_answers:get_single_charge_loss_value:30 - Particle 0 did not cross line with x=0\n",
      "2020-10-12 20:29:22.736 | DEBUG    | comm_agents.data.optimal_answers:get_single_charge_loss_value:30 - Particle 1 did not cross line with x=0\n",
      "2020-10-12 20:29:22.743 | DEBUG    | comm_agents.data.optimal_answers:get_single_charge_loss_value:30 - Particle 0 did not cross line with x=0\n",
      "2020-10-12 20:29:22.744 | DEBUG    | comm_agents.data.optimal_answers:get_single_charge_loss_value:30 - Particle 1 did not cross line with x=0\n",
      "2020-10-12 20:29:22.750 | DEBUG    | comm_agents.data.optimal_answers:get_single_charge_loss_value:30 - Particle 0 did not cross line with x=0\n",
      "2020-10-12 20:29:22.751 | DEBUG    | comm_agents.data.optimal_answers:get_single_charge_loss_value:30 - Particle 1 did not cross line with x=0\n",
      "2020-10-12 20:29:22.757 | DEBUG    | comm_agents.data.optimal_answers:get_single_charge_loss_value:30 - Particle 0 did not cross line with x=0\n",
      "2020-10-12 20:29:22.758 | DEBUG    | comm_agents.data.optimal_answers:get_single_charge_loss_value:30 - Particle 1 did not cross line with x=0\n",
      "2020-10-12 20:29:22.764 | DEBUG    | comm_agents.data.optimal_answers:get_single_charge_loss_value:30 - Particle 0 did not cross line with x=0\n",
      "2020-10-12 20:29:22.765 | DEBUG    | comm_agents.data.optimal_answers:get_single_charge_loss_value:30 - Particle 1 did not cross line with x=0\n"
     ]
    }
   ],
   "source": [
    "alpha_star = get_alpha_star(rem)\n",
    "phi_star = get_phi_star(req)"
   ]
  },
  {
   "cell_type": "code",
   "execution_count": null,
   "metadata": {},
   "outputs": [],
   "source": []
  }
 ],
 "metadata": {
  "hide_input": false,
  "kernelspec": {
   "display_name": "Python 3",
   "language": "python",
   "name": "python3"
  },
  "language_info": {
   "codemirror_mode": {
    "name": "ipython",
    "version": 3
   },
   "file_extension": ".py",
   "mimetype": "text/x-python",
   "name": "python",
   "nbconvert_exporter": "python",
   "pygments_lexer": "ipython3",
   "version": "3.7.9"
  }
 },
 "nbformat": 4,
 "nbformat_minor": 4
}
