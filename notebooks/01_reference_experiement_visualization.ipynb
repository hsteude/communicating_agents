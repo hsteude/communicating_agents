{
 "cells": [
  {
   "cell_type": "code",
   "execution_count": 1,
   "metadata": {},
   "outputs": [],
   "source": [
    "import os\n",
    "os.chdir('..')\n",
    "%load_ext autoreload\n",
    "%autoreload 2"
   ]
  },
  {
   "cell_type": "code",
   "execution_count": 2,
   "metadata": {},
   "outputs": [],
   "source": [
    "from comm_agents.data.reference_experiments import RefExperimentMass, RefExperimentCharge\n",
    "from comm_agents.data.optimal_answers import get_alpha_star, get_phi_star\n",
    "from ipywidgets import interact\n",
    "import numpy as  np"
   ]
  },
  {
   "cell_type": "code",
   "execution_count": 9,
   "metadata": {},
   "outputs": [],
   "source": [
    "# experiment parameters\n",
    "GOLF_HOLE_LOC_M = .1\n",
    "GOLF_HOLE_LOC_C = .1\n",
    "TOLERANCE = .1\n",
    "PARAM_DICT = dict(\n",
    "    m=[1e-20, 1e-20],\n",
    "    q=[1e-16, -1e-15],\n",
    "    m_ref_m=2e-20,\n",
    "    q_ref=[-1e-17, -1e-17],\n",
    "    v_ref_m=2,\n",
    "    m_ref_c=2e-20,\n",
    "    v_ref_c=0,\n",
    "    N=10,\n",
    "    alpha=[0, 0],\n",
    "    phi=[0, 0],\n",
    "    dt=.01,\n",
    "    d=.1,\n",
    "    is_golf_game=False,\n",
    "    gravity=True)\n",
    "M_RANGES = [1e-20, 5e-20]\n",
    "Q0_RANGE = [1e-16, 2e-16]\n",
    "Q1_RANGE = [-1e-15, -2e-15]\n",
    "V_REF_RANGE = [1, 2]"
   ]
  },
  {
   "cell_type": "code",
   "execution_count": 14,
   "metadata": {},
   "outputs": [],
   "source": [
    "alpha_range_re1 = np.linspace(0, 0.6, 50)\n",
    "m_range = list(np.linspace(1e-20, 1e-19, 50))\n",
    "alpha_range_re2 = np.linspace(0.5, 1, 20)\n",
    "q_range_re2_1 = np.linspace(1e-16, 2e-16, 50)\n",
    "q_range_re2_2 = np.linspace(-1e-15, -2e-15, 50)\n",
    "v_ref_range = [1, 2, 5, 50]\n",
    "N_reange = [10, 100, 1000]"
   ]
  },
  {
   "cell_type": "code",
   "execution_count": 15,
   "metadata": {
    "scrolled": false
   },
   "outputs": [
    {
     "data": {
      "application/vnd.jupyter.widget-view+json": {
       "model_id": "3d8cf3d5c03144b78c1b76456b2cf6da",
       "version_major": 2,
       "version_minor": 0
      },
      "text/plain": [
       "interactive(children=(Dropdown(description='alpha1', options=(0.0, 0.012244897959183673, 0.024489795918367346,…"
      ]
     },
     "metadata": {},
     "output_type": "display_data"
    },
    {
     "data": {
      "text/plain": [
       "<function __main__.get_re1_plot(alpha1, alpha2, m1, m2, v_ref, N, alpha_star)>"
      ]
     },
     "execution_count": 15,
     "metadata": {},
     "output_type": "execute_result"
    }
   ],
   "source": [
    "def get_re1_plot(alpha1, alpha2, m1, m2, v_ref, N, alpha_star):\n",
    "    rem = RefExperimentMass(**PARAM_DICT)\n",
    "    rem.N = N\n",
    "    rem.angle = np.array([alpha1*np.pi, alpha2*np.pi])\n",
    "    rem.m = np.array([m1, m2])\n",
    "    rem.v_ref = v_ref\n",
    "    if alpha_star:\n",
    "        rem.angle, loss = get_alpha_star(rem)\n",
    "        hio = rem.check_for_hole_in_one(golf_hole_loc=GOLF_HOLE_LOC_M, tolerance=TOLERANCE)\n",
    "        print(f'Loss: {loss}, Hole in one: {hio}')\n",
    "    rem.set_initial_state()\n",
    "    rem.run()\n",
    "    rem.visualize(golf_hole_loc=GOLF_HOLE_LOC_M, tolerance=TOLERANCE)\n",
    "    \n",
    "interact(get_re1_plot, alpha1=alpha_range_re1, alpha2=alpha_range_re1,\n",
    "         m1=m_range, m2=m_range, N=N_reange, alpha_star=False, v_ref=v_ref_range)"
   ]
  },
  {
   "cell_type": "code",
   "execution_count": 16,
   "metadata": {
    "scrolled": false
   },
   "outputs": [
    {
     "data": {
      "application/vnd.jupyter.widget-view+json": {
       "model_id": "cf2db25c8b87413e89b9287a2bda7ba8",
       "version_major": 2,
       "version_minor": 0
      },
      "text/plain": [
       "interactive(children=(Dropdown(description='m1', options=(1e-20, 1.183673469387755e-20, 1.36734693877551e-20, …"
      ]
     },
     "metadata": {},
     "output_type": "display_data"
    },
    {
     "data": {
      "text/plain": [
       "<function __main__.get_re2_plot(m1, m2, v_ref, phi1=0.5, phi2=0.63, q1=4e-12, q2=-3e-12, N=100, phi_star=False, y_cap=True)>"
      ]
     },
     "execution_count": 16,
     "metadata": {},
     "output_type": "execute_result"
    }
   ],
   "source": [
    "def get_re2_plot(m1, m2, v_ref, phi1=.5, phi2=.63, q1=4e-12, q2=-3e-12, N=100, \n",
    "                 phi_star=False, y_cap=True):\n",
    "    req = RefExperimentCharge(**PARAM_DICT)\n",
    "    req.is_golf_game = True\n",
    "    req.N = N\n",
    "    req.y_cap = y_cap\n",
    "    req.angle = np.array([phi1*np.pi, phi2*np.pi])\n",
    "    req.q = np.array([q1, q2])\n",
    "    req.m = np.array([m1, m2])\n",
    "    req.v_ref = v_ref\n",
    "    if phi_star:\n",
    "        req.angle, loss = get_phi_star(req)\n",
    "        hio = req.check_for_hole_in_one(golf_hole_loc=GOLF_HOLE_LOC_C, tolerance=TOLERANCE)\n",
    "        print(f'Loss: {loss}, Hole in one: {hio}')\n",
    "    req.set_initial_state()\n",
    "    req.run()\n",
    "    req.visualize(golf_hole_loc=GOLF_HOLE_LOC_C)\n",
    "    print(req.q_ref)\n",
    "interact(get_re2_plot, phi1=alpha_range_re2, phi2=alpha_range_re2,\n",
    "        q1=q_range_re2_1, q2=q_range_re2_2,\n",
    "         m1=m_range, m2=m_range,\n",
    "         N=N_reange, phi_star=False,\n",
    "         v_ref=v_ref_range,\n",
    "         y_cap=True)"
   ]
  },
  {
   "cell_type": "code",
   "execution_count": 7,
   "metadata": {},
   "outputs": [],
   "source": [
    "rem = RefExperimentMass(**PARAM_DICT)\n",
    "# alpha_star = get_alpha_star(rem)\n",
    "# phi_star = get_phi_star(req)"
   ]
  },
  {
   "cell_type": "code",
   "execution_count": 8,
   "metadata": {},
   "outputs": [
    {
     "ename": "ImportError",
     "evalue": "cannot import name 'get_alpha_star_bounds' from 'comm_agents.data.optimal_answers' (/Users/henrik/Documents/hsu/comm-agents/comm_agents/data/optimal_answers.py)",
     "output_type": "error",
     "traceback": [
      "\u001b[0;31m---------------------------------------------------------------------------\u001b[0m",
      "\u001b[0;31mImportError\u001b[0m                               Traceback (most recent call last)",
      "\u001b[0;32m<ipython-input-8-20a3bab7151e>\u001b[0m in \u001b[0;36m<module>\u001b[0;34m\u001b[0m\n\u001b[0;32m----> 1\u001b[0;31m \u001b[0;32mfrom\u001b[0m \u001b[0mcomm_agents\u001b[0m\u001b[0;34m.\u001b[0m\u001b[0mdata\u001b[0m\u001b[0;34m.\u001b[0m\u001b[0moptimal_answers\u001b[0m \u001b[0;32mimport\u001b[0m \u001b[0mget_alpha_star_bounds\u001b[0m\u001b[0;34m\u001b[0m\u001b[0;34m\u001b[0m\u001b[0m\n\u001b[0m\u001b[1;32m      2\u001b[0m \u001b[0mx\u001b[0m \u001b[0;34m=\u001b[0m \u001b[0mget_alpha_star_bounds\u001b[0m\u001b[0;34m(\u001b[0m\u001b[0mrem\u001b[0m\u001b[0;34m)\u001b[0m\u001b[0;34m\u001b[0m\u001b[0;34m\u001b[0m\u001b[0m\n",
      "\u001b[0;31mImportError\u001b[0m: cannot import name 'get_alpha_star_bounds' from 'comm_agents.data.optimal_answers' (/Users/henrik/Documents/hsu/comm-agents/comm_agents/data/optimal_answers.py)"
     ]
    }
   ],
   "source": [
    "from comm_agents.data.optimal_answers import get_alpha_star_bounds\n",
    "x = get_alpha_star_bounds(rem)"
   ]
  },
  {
   "cell_type": "code",
   "execution_count": 67,
   "metadata": {},
   "outputs": [
    {
     "data": {
      "text/plain": [
       "array([0.46246485, 0.46246485])"
      ]
     },
     "execution_count": 67,
     "metadata": {},
     "output_type": "execute_result"
    }
   ],
   "source": [
    "rem.check_for_hole_in_one()"
   ]
  },
  {
   "cell_type": "code",
   "execution_count": 68,
   "metadata": {},
   "outputs": [
    {
     "data": {
      "text/plain": [
       "      fun: 5.656967283496073e-09\n",
       " hess_inv: <2x2 LbfgsInvHessProduct with dtype=float64>\n",
       "      jac: array([0.27840041, 0.27840041])\n",
       "  message: b'ABNORMAL_TERMINATION_IN_LNSRCH'\n",
       "     nfev: 171\n",
       "      nit: 4\n",
       "     njev: 57\n",
       "   status: 2\n",
       "  success: False\n",
       "        x: array([1.45287617, 1.45287617])"
      ]
     },
     "execution_count": 68,
     "metadata": {},
     "output_type": "execute_result"
    }
   ],
   "source": [
    "x"
   ]
  },
  {
   "cell_type": "code",
   "execution_count": 106,
   "metadata": {},
   "outputs": [],
   "source": [
    "def get_single_mass_loss_value_new(exp, i, golf_hole_loc):\n",
    "    distances = [np.linalg.norm(np.array([x, y]) - np.array([golf_hole_loc, 0]))\n",
    "                 for x, y in zip(exp.x_series[:, i], exp.z_series[:, i])]\n",
    "    value = min(distances)\n",
    "    return value"
   ]
  },
  {
   "cell_type": "code",
   "execution_count": 110,
   "metadata": {},
   "outputs": [
    {
     "data": {
      "text/plain": [
       "0.1"
      ]
     },
     "execution_count": 110,
     "metadata": {},
     "output_type": "execute_result"
    }
   ],
   "source": [
    "get_single_mass_loss_value_new(rem, 1, GOLF_HOLE_LOC_M)"
   ]
  },
  {
   "cell_type": "code",
   "execution_count": null,
   "metadata": {},
   "outputs": [],
   "source": [
    "[np.linalg.norm(np.array([x, y]) - np.array(0, golf_hole_loc))\n",
    "                 for x, y in zip(exp.x_series[:, i], exp.z_series[:, i])]"
   ]
  }
 ],
 "metadata": {
  "hide_input": false,
  "kernelspec": {
   "display_name": "Python 3",
   "language": "python",
   "name": "python3"
  },
  "language_info": {
   "codemirror_mode": {
    "name": "ipython",
    "version": 3
   },
   "file_extension": ".py",
   "mimetype": "text/x-python",
   "name": "python",
   "nbconvert_exporter": "python",
   "pygments_lexer": "ipython3",
   "version": "3.7.4"
  }
 },
 "nbformat": 4,
 "nbformat_minor": 4
}
