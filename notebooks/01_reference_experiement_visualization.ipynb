{
 "cells": [
  {
   "cell_type": "code",
   "execution_count": 1,
   "metadata": {},
   "outputs": [],
   "source": [
    "import os\n",
    "os.chdir('..')\n",
    "%load_ext autoreload\n",
    "%autoreload 2"
   ]
  },
  {
   "cell_type": "code",
   "execution_count": 2,
   "metadata": {},
   "outputs": [],
   "source": [
    "from comm_agents.data.reference_experiments import RefExperimentMass, RefExperimentCharge\n",
    "from comm_agents.data.optimal_answers import get_alpha_star, get_phi_star\n",
    "from ipywidgets import interact\n",
    "import numpy as  np"
   ]
  },
  {
   "cell_type": "code",
   "execution_count": 3,
   "metadata": {},
   "outputs": [],
   "source": [
    "# experiment parameters\n",
    "GOLF_HOLE_LOC_M = .1\n",
    "GOLF_HOLE_LOC_C = .1\n",
    "TOLERANCE = .1\n",
    "PARAM_DICT = dict(\n",
    "    m=[1e-20, 1e-20],\n",
    "    q=[1e-16, -1e-15],\n",
    "    m_ref_m=2e-20,\n",
    "    q_ref=[-1e-17, -1e-17],\n",
    "    v_ref_m=2,\n",
    "    m_ref_c=2e-20,\n",
    "    v_ref_c=0,\n",
    "    N=10,\n",
    "    alpha=[0, 0],\n",
    "    phi=[0, 0],\n",
    "    dt=.01,\n",
    "    d=.1,\n",
    "    is_golf_game=False,\n",
    "    gravity=True)\n",
    "M_RANGES = [1e-20, 5e-20]\n",
    "Q0_RANGE = [1e-16, 2e-16]\n",
    "Q1_RANGE = [-1e-15, -2e-15]\n",
    "V_REF_RANGE = [1, 2]"
   ]
  },
  {
   "cell_type": "code",
   "execution_count": 4,
   "metadata": {},
   "outputs": [],
   "source": [
    "alpha_range_re1 = np.linspace(0, 0.6, 50)\n",
    "m_range = list(np.linspace(1e-20, 1e-19, 50))\n",
    "alpha_range_re2 = np.linspace(0.5, 1, 20)\n",
    "q_range_re2_1 = np.linspace(1e-16, 2e-16, 50)\n",
    "q_range_re2_2 = np.linspace(-1e-15, -2e-15, 50)\n",
    "v_ref_range = np.linspace(1, 2, 50)\n",
    "N_reange = [10, 100, 1000]"
   ]
  },
  {
   "cell_type": "code",
   "execution_count": 5,
   "metadata": {
    "scrolled": false
   },
   "outputs": [
    {
     "data": {
      "application/vnd.jupyter.widget-view+json": {
       "model_id": "c457b0efb16b44e1bda59c95ccf6af97",
       "version_major": 2,
       "version_minor": 0
      },
      "text/plain": [
       "interactive(children=(Dropdown(description='alpha1', options=(0.0, 0.012244897959183673, 0.024489795918367346,…"
      ]
     },
     "metadata": {},
     "output_type": "display_data"
    },
    {
     "data": {
      "text/plain": [
       "<function __main__.get_re1_plot(alpha1, alpha2, m1, m2, v_ref, N, alpha_star)>"
      ]
     },
     "execution_count": 5,
     "metadata": {},
     "output_type": "execute_result"
    }
   ],
   "source": [
    "def get_re1_plot(alpha1, alpha2, m1, m2, v_ref, N, alpha_star):\n",
    "    rem = RefExperimentMass(**PARAM_DICT)\n",
    "    rem.N = N\n",
    "    rem.angle = np.array([alpha1*np.pi, alpha2*np.pi])\n",
    "    rem.m = np.array([m1, m2])\n",
    "    rem.v_ref = v_ref\n",
    "    if alpha_star:\n",
    "        rem.angle, loss = get_alpha_star(rem)\n",
    "        hio = rem.check_for_hole_in_one(golf_hole_loc=GOLF_HOLE_LOC_M, tolerance=TOLERANCE)\n",
    "        print(f'Loss: {loss}, Hole in one: {hio}')\n",
    "    rem.set_initial_state()\n",
    "    rem.run()\n",
    "    rem.visualize(golf_hole_loc=GOLF_HOLE_LOC_M, tolerance=TOLERANCE)\n",
    "    \n",
    "interact(get_re1_plot, alpha1=alpha_range_re1, alpha2=alpha_range_re1,\n",
    "         m1=m_range, m2=m_range, N=N_reange, alpha_star=False, v_ref=v_ref_range)"
   ]
  },
  {
   "cell_type": "code",
   "execution_count": 6,
   "metadata": {
    "scrolled": false
   },
   "outputs": [
    {
     "data": {
      "application/vnd.jupyter.widget-view+json": {
       "model_id": "b903b48bc93242e4aeb8ffead4124dbe",
       "version_major": 2,
       "version_minor": 0
      },
      "text/plain": [
       "interactive(children=(Dropdown(description='m1', options=(1e-20, 1.183673469387755e-20, 1.36734693877551e-20, …"
      ]
     },
     "metadata": {},
     "output_type": "display_data"
    },
    {
     "data": {
      "text/plain": [
       "<function __main__.get_re2_plot(m1, m2, v_ref, phi1=0.5, phi2=0.63, q1=4e-12, q2=-3e-12, N=100, phi_star=False, y_cap=True)>"
      ]
     },
     "execution_count": 6,
     "metadata": {},
     "output_type": "execute_result"
    }
   ],
   "source": [
    "def get_re2_plot(m1, m2, v_ref, phi1=.5, phi2=.63, q1=4e-12, q2=-3e-12, N=100, \n",
    "                 phi_star=False, y_cap=True):\n",
    "    req = RefExperimentCharge(**PARAM_DICT)\n",
    "    req.is_golf_game = True\n",
    "    req.N = N\n",
    "    req.y_cap = y_cap\n",
    "    req.angle = np.array([phi1*np.pi, phi2*np.pi])\n",
    "    req.q = np.array([q1, q2])\n",
    "    req.m = np.array([m1, m2])\n",
    "    req.v_ref = v_ref\n",
    "    if phi_star:\n",
    "        req.angle, loss = get_phi_star(req)\n",
    "        hio = req.check_for_hole_in_one(golf_hole_loc=GOLF_HOLE_LOC_C, tolerance=TOLERANCE)\n",
    "        print(f'Loss: {loss}, Hole in one: {hio}')\n",
    "    req.set_initial_state()\n",
    "    req.run()\n",
    "    req.visualize(golf_hole_loc=GOLF_HOLE_LOC_C)\n",
    "    print(req.q_ref)\n",
    "interact(get_re2_plot, phi1=alpha_range_re2, phi2=alpha_range_re2,\n",
    "        q1=q_range_re2_1, q2=q_range_re2_2,\n",
    "         m1=m_range, m2=m_range,\n",
    "         N=N_reange, phi_star=False,\n",
    "         v_ref=v_ref_range,\n",
    "         y_cap=True)"
   ]
  },
  {
   "cell_type": "code",
   "execution_count": 28,
   "metadata": {},
   "outputs": [],
   "source": [
    "# some quick feasibility checks"
   ]
  },
  {
   "cell_type": "code",
   "execution_count": 7,
   "metadata": {},
   "outputs": [],
   "source": [
    "from comm_agents.data.datahandler import RefExpDataset"
   ]
  },
  {
   "cell_type": "code",
   "execution_count": 9,
   "metadata": {},
   "outputs": [],
   "source": [
    "ds = RefExpDataset()"
   ]
  },
  {
   "cell_type": "code",
   "execution_count": 10,
   "metadata": {},
   "outputs": [
    {
     "data": {
      "text/plain": [
       "(tensor([ 1.3788e-20,  3.0986e-20,  1.0992e-16, -1.4092e-15]),\n",
       " tensor([ 0.0000e+00,  2.0929e-02,  4.1859e-02,  6.2788e-02,  8.3717e-02,\n",
       "          1.0465e-01,  1.2558e-01,  1.4650e-01,  1.6743e-01,  1.8836e-01,\n",
       "          0.0000e+00,  1.3869e-02,  2.7739e-02,  4.1608e-02,  5.5478e-02,\n",
       "          6.9348e-02,  8.3217e-02,  9.7086e-02,  1.1096e-01,  1.2483e-01,\n",
       "          0.0000e+00,  3.5836e-06,  1.4335e-05,  3.2256e-05,  5.7348e-05,\n",
       "          8.9617e-05,  1.2906e-04,  1.7570e-04,  2.2953e-04,  2.9055e-04,\n",
       "          0.0000e+00, -2.0443e-05, -8.1755e-05, -1.8389e-04, -3.2675e-04,\n",
       "         -5.1024e-04, -7.3420e-04, -9.9844e-04, -1.3028e-03, -1.6469e-03]),\n",
       " tensor([2.0000e-20, 1.7679e+00, 2.0000e-20, 1.5357e+00]),\n",
       " tensor([0.1125, 0.2692, 1.6660, 1.6690]))"
      ]
     },
     "execution_count": 10,
     "metadata": {},
     "output_type": "execute_result"
    }
   ],
   "source": [
    "ds[0]"
   ]
  },
  {
   "cell_type": "code",
   "execution_count": 29,
   "metadata": {},
   "outputs": [],
   "source": [
    "import pandas as pd"
   ]
  },
  {
   "cell_type": "code",
   "execution_count": 30,
   "metadata": {},
   "outputs": [],
   "source": [
    "df_sampels = pd.read_csv('data/reference_experiment_dat.csv')"
   ]
  },
  {
   "cell_type": "code",
   "execution_count": 31,
   "metadata": {},
   "outputs": [
    {
     "data": {
      "text/plain": [
       "0.14264174223876083"
      ]
     },
     "execution_count": 31,
     "metadata": {},
     "output_type": "execute_result"
    }
   ],
   "source": [
    "df_sampels.alpha_star0.max() / np.pi"
   ]
  },
  {
   "cell_type": "code",
   "execution_count": 32,
   "metadata": {},
   "outputs": [
    {
     "data": {
      "text/plain": [
       "{'m0': {0: 1.3787796896581534e-20},\n",
       " 'm1': {0: 3.098626843255872e-20},\n",
       " 'q0': {0: 1.099232064298954e-16},\n",
       " 'q1': {0: -1.4092251778554867e-15},\n",
       " 'o0_0_0': {0: 0.0},\n",
       " 'o0_0_1': {0: 0.02092927320893955},\n",
       " 'o0_0_2': {0: 0.0418585464178791},\n",
       " 'o0_0_3': {0: 0.06278781962681865},\n",
       " 'o0_0_4': {0: 0.0837170928357582},\n",
       " 'o0_0_5': {0: 0.10464636604469776},\n",
       " 'o0_0_6': {0: 0.12557563925363732},\n",
       " 'o0_0_7': {0: 0.14650491246257688},\n",
       " 'o0_0_8': {0: 0.16743418567151644},\n",
       " 'o0_0_9': {0: 0.18836345888045603},\n",
       " 'o0_1_0': {0: 0.0},\n",
       " 'o0_1_1': {0: 0.01386949965385468},\n",
       " 'o0_1_2': {0: 0.02773899930770936},\n",
       " 'o0_1_3': {0: 0.04160849896156405},\n",
       " 'o0_1_4': {0: 0.05547799861541872},\n",
       " 'o0_1_5': {0: 0.0693474982692734},\n",
       " 'o0_1_6': {0: 0.08321699792312809},\n",
       " 'o0_1_7': {0: 0.09708649757698276},\n",
       " 'o0_1_8': {0: 0.11095599723083746},\n",
       " 'o0_1_9': {0: 0.12482549688469215},\n",
       " 'o1_0_0': {0: 0.0},\n",
       " 'o1_0_1': {0: 3.5836386088983146e-06},\n",
       " 'o1_0_2': {0: 1.4335068161835401e-05},\n",
       " 'o1_0_3': {0: 3.225583024265275e-05},\n",
       " 'o1_0_4': {0: 5.734849550890758e-05},\n",
       " 'o1_0_5': {0: 8.96166657213067e-05},\n",
       " 'o1_0_6': {0: 0.00012906497659032724},\n",
       " 'o1_0_7': {0: 0.00017569910144546},\n",
       " 'o1_0_8': {0: 0.00022952575573409752},\n",
       " 'o1_0_9': {0: 0.00029055270235869764},\n",
       " 'o1_1_0': {0: 0.0},\n",
       " 'o1_1_1': {0: -2.0442820303604196e-05},\n",
       " 'o1_1_2': {0: -8.175456998288328e-05},\n",
       " 'o1_1_3': {0: -0.0001838851904023233},\n",
       " 'o1_1_4': {0: -0.0003267514998874768},\n",
       " 'o1_1_5': {0: -0.0005102375649753863},\n",
       " 'o1_1_6': {0: -0.0007341952145690919},\n",
       " 'o1_1_7': {0: -0.0009984446915320003},\n",
       " 'o1_1_8': {0: -0.0013027754348804786},\n",
       " 'o1_1_9': {0: -0.0016469469844856313},\n",
       " 'alpha_star0': {0: 0.11253373765631088},\n",
       " 'alpha_star1': {0: 0.2692085361508861},\n",
       " 'phi_star0': {0: 1.6660089438070642},\n",
       " 'phi_star1': {0: 1.6689797230108696},\n",
       " 'm_ref_a': {0: 2.0000000000000002e-20},\n",
       " 'v_ref_a': {0: 1.7678850809417872},\n",
       " 'm_ref_b': {0: 2.0000000000000002e-20},\n",
       " 'v_ref_b': {0: 1.5356687772979014}}"
      ]
     },
     "execution_count": 32,
     "metadata": {},
     "output_type": "execute_result"
    }
   ],
   "source": [
    "df_sampels[0:1].to_dict()"
   ]
  },
  {
   "cell_type": "code",
   "execution_count": 15,
   "metadata": {},
   "outputs": [
    {
     "data": {
      "text/plain": [
       "0.5303071172844039"
      ]
     },
     "execution_count": 15,
     "metadata": {},
     "output_type": "execute_result"
    }
   ],
   "source": [
    "1.6660089438070642/ np.pi"
   ]
  },
  {
   "cell_type": "code",
   "execution_count": null,
   "metadata": {},
   "outputs": [],
   "source": [
    "rem = RefExperimentMass(**PARAM_DICT)\n",
    "rem.m = []"
   ]
  }
 ],
 "metadata": {
  "hide_input": false,
  "kernelspec": {
   "display_name": "comm-agents",
   "language": "python",
   "name": "comm-agents"
  },
  "language_info": {
   "codemirror_mode": {
    "name": "ipython",
    "version": 3
   },
   "file_extension": ".py",
   "mimetype": "text/x-python",
   "name": "python",
   "nbconvert_exporter": "python",
   "pygments_lexer": "ipython3",
   "version": "3.7.9"
  }
 },
 "nbformat": 4,
 "nbformat_minor": 4
}
