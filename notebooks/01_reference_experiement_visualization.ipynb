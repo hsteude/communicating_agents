{
 "cells": [
  {
   "cell_type": "code",
   "execution_count": null,
   "metadata": {},
   "outputs": [],
   "source": [
    "import os\n",
    "os.chdir('..')\n",
    "%load_ext autoreload\n",
    "%autoreload 2"
   ]
  },
  {
   "cell_type": "code",
   "execution_count": null,
   "metadata": {},
   "outputs": [],
   "source": [
    "from comm_agents.data.reference_experiments import RefExperimentMass, RefExperimentCharge\n",
    "from comm_agents.data.optimal_answers import get_alpha_star, get_phi_star\n",
    "from ipywidgets import interact\n",
    "import numpy as  np"
   ]
  },
  {
   "cell_type": "code",
   "execution_count": null,
   "metadata": {},
   "outputs": [],
   "source": [
    "# experiment parameters\n",
    "GOLF_HOLE_LOC_M = .1\n",
    "GOLF_HOLE_LOC_C = .1\n",
    "TOLERANCE = .01\n",
    "PARAM_DICT = dict(\n",
    "    m=[1e-20, 1e-20],\n",
    "    q=[1e-16, -1e-15],\n",
    "    m_ref_m=2e-20,\n",
    "    q_ref=[-1e-17, -1e-17],\n",
    "    v_ref_m=2,\n",
    "    m_ref_c=2e-20,\n",
    "    v_ref_c=0,\n",
    "    N=10,\n",
    "    alpha=[0, 0],\n",
    "    phi=[0, 0],\n",
    "    dt=.01,\n",
    "    d=.1,\n",
    "    is_golf_game=False,\n",
    "    gravity=True)\n",
    "M_RANGES = [1e-20, 5e-20]\n",
    "Q0_RANGE = [1e-16, 2e-16]\n",
    "Q1_RANGE = [-1e-15, -2e-15]\n",
    "V_REF_RANGE = [1, 2]"
   ]
  },
  {
   "cell_type": "code",
   "execution_count": null,
   "metadata": {},
   "outputs": [],
   "source": [
    "alpha_range_re_a = np.linspace(0, 0.6, 50)\n",
    "m_range = list(np.linspace(1e-20, 1e-19, 50))\n",
    "alpha_range_re_b = np.linspace(0.5, 1, 20)\n",
    "q_range_re_b_1 = np.linspace(1e-16, 2e-16, 50)\n",
    "q_range_re_b_2 = np.linspace(-1e-15, -2e-15, 50)\n",
    "v_ref_range = np.linspace(1, 2, 50)\n",
    "N_reange = [10, 100, 1000]\n",
    "dt_range = [.01, .001, .0001]"
   ]
  },
  {
   "cell_type": "code",
   "execution_count": null,
   "metadata": {},
   "outputs": [],
   "source": [
    "def get_re_a_plot(alpha1, alpha2, m1, m2, v_ref, N, dt, alpha_star):\n",
    "    rem = RefExperimentMass(**PARAM_DICT)\n",
    "    rem.N = N\n",
    "    rem.dt = dt\n",
    "    rem.angle = np.array([alpha1*np.pi, alpha2*np.pi])\n",
    "    rem.m = np.array([m1, m2])\n",
    "    rem.v_ref = v_ref\n",
    "    if alpha_star:\n",
    "        rem.angle, loss = get_alpha_star(rem)\n",
    "        hio = rem.check_for_hole_in_one(golf_hole_loc=GOLF_HOLE_LOC_M, tolerance=TOLERANCE)\n",
    "        print(f'Loss: {loss}, Hole in one: {hio}')\n",
    "    rem.set_initial_state()\n",
    "    rem.run()\n",
    "    rem.visualize(golf_hole_loc=GOLF_HOLE_LOC_M, tolerance=TOLERANCE)\n",
    "    \n",
    "interact(get_re_a_plot, alpha1=alpha_range_re_a, alpha2=alpha_range_re_a,\n",
    "         m1=m_range, m2=m_range, N=N_reange, alpha_star=False, v_ref=v_ref_range,\n",
    "        dt=dt_range)"
   ]
  },
  {
   "cell_type": "code",
   "execution_count": null,
   "metadata": {},
   "outputs": [],
   "source": [
    "def get_re_b_plot(m1, m2, v_ref, phi1=.5, phi2=.63, q1=4e-12, q2=-3e-12, N=100, \n",
    "                 dt=0.01, phi_star=False, y_cap=True):\n",
    "    req = RefExperimentCharge(**PARAM_DICT)\n",
    "    req.is_golf_game = True\n",
    "    req.N = N\n",
    "    req.dt = dt\n",
    "    req.y_cap = y_cap\n",
    "    req.angle = np.array([phi1*np.pi, phi2*np.pi])\n",
    "    req.q = np.array([q1, q2])\n",
    "    req.m = np.array([m1, m2])\n",
    "    req.v_ref = v_ref\n",
    "    if phi_star:\n",
    "        req.angle, loss = get_phi_star(req)\n",
    "        hio = req.check_for_hole_in_one(golf_hole_loc=GOLF_HOLE_LOC_C, tolerance=TOLERANCE)\n",
    "        print(f'Loss: {loss}, Hole in one: {hio}')\n",
    "    req.set_initial_state()\n",
    "    req.run()\n",
    "    req.visualize(golf_hole_loc=GOLF_HOLE_LOC_C)\n",
    "\n",
    "interact(get_re_b_plot, phi1=alpha_range_re_a, phi2=alpha_range_re_b,\n",
    "        q1=q_range_re_b_1, q2=q_range_re_b_2,\n",
    "         m1=m_range, m2=m_range,\n",
    "         N=N_reange, phi_star=False,\n",
    "         v_ref=v_ref_range,\n",
    "         y_cap=True,\n",
    "        dt=dt_range)"
   ]
  },
  {
   "cell_type": "code",
   "execution_count": null,
   "metadata": {},
   "outputs": [],
   "source": [
    "import pandas as pd\n",
    "DATA_PATH = './data/training/large_chunk.csv'\n",
    "\n",
    "df_check = pd.read_csv(DATA_PATH)\n",
    "df_check.loc[:, ['alpha_star0', 'alpha_star1', 'phi_star0', 'phi_star1']] = \\\n",
    "    df_check[['alpha_star0', 'alpha_star1', 'phi_star0', 'phi_star1']] / np.pi\n",
    "df_check.head()"
   ]
  },
  {
   "cell_type": "code",
   "execution_count": null,
   "metadata": {},
   "outputs": [],
   "source": [
    "i = 0"
   ]
  },
  {
   "cell_type": "code",
   "execution_count": null,
   "metadata": {},
   "outputs": [],
   "source": [
    "i +=1\n",
    "m0 = df_check.m0[i]\n",
    "m1 = df_check.m1[i]\n",
    "q0 = df_check.q0[i]\n",
    "q1 = df_check.q1[i]\n",
    "v_ref_c = df_check.v_ref_b[i]\n",
    "phi0 = df_check.phi_star0[i]\n",
    "phi1 = df_check.phi_star1[i]\n",
    "req = RefExperimentCharge( m=[m0, m1], q=[q0, q1], m_ref_c=2e-20,\n",
    "                 v_ref_c=v_ref_c, q_ref=[None, None], d=.1, N=1000,\n",
    "                          phi=[phi0*np.pi, phi1*np.pi],\n",
    "                 dt=.001, is_golf_game=True, y_cap=True)\n",
    "req.run()\n",
    "req.visualize()\n",
    "\n",
    "\n",
    "v_ref_m = df_check.v_ref_a[i]\n",
    "alpha0 = df_check.alpha_star0[i]\n",
    "alpha1 = df_check.alpha_star1[i]\n",
    "rem = RefExperimentMass(m=[m0, m1], m_ref_m=2e-20, v_ref_m=v_ref_m, N=1000,\n",
    "                 alpha=[alpha0, alpha1], dt=.001, gravity=True)\n",
    "rem.angle = np.array([alpha0*np.pi, alpha1*np.pi])\n",
    "rem.run()\n",
    "rem.visualize(GOLF_HOLE_LOC_M, TOLERANCE)"
   ]
  },
  {
   "cell_type": "code",
   "execution_count": null,
   "metadata": {},
   "outputs": [],
   "source": [
    "np.pi"
   ]
  },
  {
   "cell_type": "code",
   "execution_count": null,
   "metadata": {},
   "outputs": [],
   "source": []
  }
 ],
 "metadata": {
  "hide_input": false,
  "kernelspec": {
   "display_name": "com-agent",
   "language": "python",
   "name": "com-agent"
  },
  "language_info": {
   "codemirror_mode": {
    "name": "ipython",
    "version": 3
   },
   "file_extension": ".py",
   "mimetype": "text/x-python",
   "name": "python",
   "nbconvert_exporter": "python",
   "pygments_lexer": "ipython3",
   "version": "3.7.9"
  }
 },
 "nbformat": 4,
 "nbformat_minor": 4
}
