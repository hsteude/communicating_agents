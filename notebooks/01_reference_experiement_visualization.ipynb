{
 "cells": [
  {
   "cell_type": "code",
   "execution_count": 2,
   "metadata": {},
   "outputs": [],
   "source": [
    "import os\n",
    "os.chdir('..')"
   ]
  },
  {
   "cell_type": "code",
   "execution_count": 25,
   "metadata": {},
   "outputs": [
    {
     "name": "stdout",
     "output_type": "stream",
     "text": [
      "The autoreload extension is already loaded. To reload it, use:\n",
      "  %reload_ext autoreload\n"
     ]
    }
   ],
   "source": [
    "%load_ext autoreload\n",
    "%autoreload 2\n",
    "from comm_agents.data.reference_experiments_with_qa import RefExperimentMass\n",
    "from ipywidgets import interact\n",
    "import numpy as  np"
   ]
  },
  {
   "cell_type": "code",
   "execution_count": 26,
   "metadata": {},
   "outputs": [],
   "source": [
    "# experiment parameters\n",
    "GOLF_HOLE_LOC = 0.1\n",
    "PARAM_DICT_M = dict(\n",
    "    m=[2e-12, 1e-12],\n",
    "    m_ref=2e-12,\n",
    "    v_ref=1,\n",
    "    N=100,\n",
    "    alpha=[0, 0],\n",
    "    dt=.01,\n",
    "    gravity=True)"
   ]
  },
  {
   "cell_type": "code",
   "execution_count": 33,
   "metadata": {},
   "outputs": [
    {
     "data": {
      "text/plain": [
       "array([1.00000000e-12, 1.10526316e-12, 1.21052632e-12, 1.31578947e-12,\n",
       "       1.42105263e-12, 1.52631579e-12, 1.63157895e-12, 1.73684211e-12,\n",
       "       1.84210526e-12, 1.94736842e-12, 2.05263158e-12, 2.15789474e-12,\n",
       "       2.26315789e-12, 2.36842105e-12, 2.47368421e-12, 2.57894737e-12,\n",
       "       2.68421053e-12, 2.78947368e-12, 2.89473684e-12, 3.00000000e-12])"
      ]
     },
     "execution_count": 33,
     "metadata": {},
     "output_type": "execute_result"
    }
   ],
   "source": [
    "alpha_range = np.linspace(0, 0.6, 20)\n",
    "m_range = np.linspace(1e-12, 3e-12, 20)\n",
    "m_range"
   ]
  },
  {
   "cell_type": "code",
   "execution_count": 37,
   "metadata": {},
   "outputs": [
    {
     "data": {
      "application/vnd.jupyter.widget-view+json": {
       "model_id": "c9842744e75d4e499afebd546539186a",
       "version_major": 2,
       "version_minor": 0
      },
      "text/plain": [
       "interactive(children=(Dropdown(description='alpha1', options=(0.0, 0.031578947368421054, 0.06315789473684211, …"
      ]
     },
     "metadata": {},
     "output_type": "display_data"
    },
    {
     "data": {
      "text/plain": [
       "<function __main__.get_re1_plot(alpha1, alpha2, m1, m2)>"
      ]
     },
     "execution_count": 37,
     "metadata": {},
     "output_type": "execute_result"
    }
   ],
   "source": [
    "def get_re1_plot(alpha1, alpha2, m1, m2):\n",
    "    rem = RefExperimentMass(**PARAM_DICT_M)\n",
    "    rem.set_initial_state()\n",
    "    rem.alpha = np.array([alpha1*np.pi, alpha2*np.pi])\n",
    "    rem.m = np.array([m1, m2])\n",
    "    rem.run()\n",
    "    rem.visualize(golf_hole_loc=GOLF_HOLE_LOC)\n",
    "    \n",
    "interact(get_re1_plot, alpha1=alpha_range, alpha2=alpha_range, m1=m_range, m2=m_range)"
   ]
  },
  {
   "cell_type": "code",
   "execution_count": null,
   "metadata": {},
   "outputs": [],
   "source": []
  }
 ],
 "metadata": {
  "hide_input": false,
  "kernelspec": {
   "display_name": "Python 3",
   "language": "python",
   "name": "python3"
  },
  "language_info": {
   "codemirror_mode": {
    "name": "ipython",
    "version": 3
   },
   "file_extension": ".py",
   "mimetype": "text/x-python",
   "name": "python",
   "nbconvert_exporter": "python",
   "pygments_lexer": "ipython3",
   "version": "3.7.9"
  }
 },
 "nbformat": 4,
 "nbformat_minor": 4
}
