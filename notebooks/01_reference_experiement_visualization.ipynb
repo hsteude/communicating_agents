{
 "cells": [
  {
   "cell_type": "markdown",
   "metadata": {},
   "source": [
    "# Reference experiment visualization\n",
    "\n",
    "This notebook shows some visualization of the two reference experiements described in chapter 5.1 of [this paper](https://arxiv.org/abs/2001.00593). "
   ]
  },
  {
   "cell_type": "markdown",
   "metadata": {},
   "source": [
    "### Import  stuff"
   ]
  },
  {
   "cell_type": "code",
   "execution_count": null,
   "metadata": {},
   "outputs": [],
   "source": [
    "import os\n",
    "os.chdir('..')\n",
    "%load_ext autoreload\n",
    "%autoreload 2"
   ]
  },
  {
   "cell_type": "code",
   "execution_count": null,
   "metadata": {},
   "outputs": [],
   "source": [
    "from comm_agents.data.reference_experiments import RefExperimentMass, RefExperimentCharge\n",
    "from comm_agents.data.optimal_answers import get_alpha_star, get_phi_star\n",
    "from ipywidgets import interact\n",
    "import numpy as  np"
   ]
  },
  {
   "cell_type": "markdown",
   "metadata": {},
   "source": [
    "### Define params"
   ]
  },
  {
   "cell_type": "code",
   "execution_count": null,
   "metadata": {},
   "outputs": [],
   "source": [
    "# experiment parameters\n",
    "GOLF_HOLE_LOC_M = .1\n",
    "GOLF_HOLE_LOC_C = .1\n",
    "TOLERANCE = .01\n",
    "PARAM_DICT = dict(\n",
    "    m=[1e-20, 1e-20],\n",
    "    q=[1e-16, -1e-15],\n",
    "    m_ref_m=2e-20,\n",
    "    q_ref=[-1e-17, -1e-17],\n",
    "    v_ref_m=2,\n",
    "    m_ref_c=2e-20,\n",
    "    v_ref_c=0,\n",
    "    N=10,\n",
    "    alpha=[0, 0],\n",
    "    phi=[0, 0],\n",
    "    dt=.01,\n",
    "    d=.1,\n",
    "    is_golf_game=False,\n",
    "    gravity=True)\n",
    "\n",
    "# ranges for interative plots\n",
    "alpha_range_re_a = np.linspace(0, 0.6, 50)\n",
    "m_range = list(np.linspace(1e-20, 1e-19, 50))\n",
    "alpha_range_re_b = np.linspace(0.5, 1, 20)\n",
    "q_range_re_b_1 = np.linspace(1e-16, 2e-16, 50)\n",
    "q_range_re_b_2 = np.linspace(-1e-15, -2e-15, 50)\n",
    "v_ref_range = np.linspace(1, 2, 50)\n",
    "N_reange = [10, 100, 1000]\n",
    "dt_range = [.01, .001, .0001]"
   ]
  },
  {
   "cell_type": "markdown",
   "metadata": {},
   "source": [
    "### Interactive visualization for reference experiment A"
   ]
  },
  {
   "cell_type": "code",
   "execution_count": null,
   "metadata": {},
   "outputs": [],
   "source": [
    "def get_re_a_plot(alpha1, alpha2, m1, m2, v_ref, N, dt, alpha_star):\n",
    "    rem = RefExperimentMass(**PARAM_DICT)\n",
    "    rem.N = N\n",
    "    rem.dt = dt\n",
    "    rem.angle = np.array([alpha1*np.pi, alpha2*np.pi])\n",
    "    rem.m = np.array([m1, m2])\n",
    "    rem.v_ref = v_ref\n",
    "    if alpha_star:\n",
    "        rem.angle, loss = get_alpha_star(rem)\n",
    "        hio = rem.check_for_hole_in_one(golf_hole_loc=GOLF_HOLE_LOC_M, tolerance=TOLERANCE)\n",
    "        print(f'Loss: {loss}, Hole in one: {hio}')\n",
    "    rem.set_initial_state()\n",
    "    rem.run()\n",
    "    rem.visualize(golf_hole_loc=GOLF_HOLE_LOC_M, tolerance=TOLERANCE)\n",
    "    \n",
    "interact(get_re_a_plot, alpha1=alpha_range_re_a, alpha2=alpha_range_re_a,\n",
    "         m1=m_range, m2=m_range, N=N_reange, alpha_star=False, v_ref=v_ref_range,\n",
    "        dt=dt_range)"
   ]
  },
  {
   "cell_type": "markdown",
   "metadata": {},
   "source": [
    "### Interactive visualization for reference experiment B"
   ]
  },
  {
   "cell_type": "code",
   "execution_count": null,
   "metadata": {},
   "outputs": [],
   "source": [
    "def get_re_b_plot(m1, m2, v_ref, phi1=.5, phi2=.63, q1=4e-12, q2=-3e-12, N=100, \n",
    "                 dt=0.01, phi_star=False, y_cap=True):\n",
    "    req = RefExperimentCharge(**PARAM_DICT)\n",
    "    req.is_golf_game = True\n",
    "    req.N = N\n",
    "    req.dt = dt\n",
    "    req.y_cap = y_cap\n",
    "    req.angle = np.array([phi1*np.pi, phi2*np.pi])\n",
    "    req.q = np.array([q1, q2])\n",
    "    req.m = np.array([m1, m2])\n",
    "    req.v_ref = v_ref\n",
    "    if phi_star:\n",
    "        req.angle, loss = get_phi_star(req)\n",
    "        hio = req.check_for_hole_in_one(golf_hole_loc=GOLF_HOLE_LOC_C, tolerance=TOLERANCE)\n",
    "        print(f'Loss: {loss}, Hole in one: {hio}')\n",
    "    req.set_initial_state()\n",
    "    req.run()\n",
    "    req.visualize(golf_hole_loc=GOLF_HOLE_LOC_C)\n",
    "\n",
    "interact(get_re_b_plot, phi1=alpha_range_re_a, phi2=alpha_range_re_b,\n",
    "        q1=q_range_re_b_1, q2=q_range_re_b_2,\n",
    "         m1=m_range, m2=m_range,\n",
    "         N=N_reange, phi_star=False,\n",
    "         v_ref=v_ref_range,\n",
    "         y_cap=True,\n",
    "        dt=dt_range)"
   ]
  },
  {
   "cell_type": "code",
   "execution_count": null,
   "metadata": {},
   "outputs": [],
   "source": []
  }
 ],
 "metadata": {
  "hide_input": false,
  "kernelspec": {
   "display_name": "com-agent",
   "language": "python",
   "name": "com-agent"
  },
  "language_info": {
   "codemirror_mode": {
    "name": "ipython",
    "version": 3
   },
   "file_extension": ".py",
   "mimetype": "text/x-python",
   "name": "python",
   "nbconvert_exporter": "python",
   "pygments_lexer": "ipython3",
   "version": "3.7.9"
  }
 },
 "nbformat": 4,
 "nbformat_minor": 4
}
