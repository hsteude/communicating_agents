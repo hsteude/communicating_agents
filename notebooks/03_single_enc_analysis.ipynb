{
 "cells": [
  {
   "cell_type": "code",
   "execution_count": null,
   "metadata": {},
   "outputs": [],
   "source": [
    "import os\n",
    "os.chdir('..')\n",
    "%load_ext autoreload\n",
    "%autoreload 2"
   ]
  },
  {
   "cell_type": "code",
   "execution_count": null,
   "metadata": {},
   "outputs": [],
   "source": [
    "import torch\n",
    "from comm_agents.data.data_handler import RefExpDataset\n",
    "from comm_agents.models.model_single_enc import SingleEncModel\n",
    "import pandas as pd\n",
    "import plotly.graph_objects as go\n",
    "from ipywidgets import interact"
   ]
  },
  {
   "cell_type": "code",
   "execution_count": null,
   "metadata": {},
   "outputs": [],
   "source": [
    "dataset = RefExpDataset()"
   ]
  },
  {
   "cell_type": "code",
   "execution_count": null,
   "metadata": {},
   "outputs": [],
   "source": [
    "MODEL_PATH_PRE = './models/single_enc_model_pretrain_2020-10-26.pt'\n",
    "MODEL_PATH_POST = './models/single_enc_model2020-10-26.pt'"
   ]
  },
  {
   "cell_type": "code",
   "execution_count": null,
   "metadata": {},
   "outputs": [],
   "source": [
    "device = torch.device('cpu')\n",
    "models = [SingleEncModel(observantion_size=40,\n",
    "                       lat_space_size=3,\n",
    "                       question_size=2,\n",
    "                       enc_num_hidden_layers=10,\n",
    "                       enc_hidden_size=100,\n",
    "                       dec_num_hidden_layers=10,\n",
    "                       dec_hidden_size=100,\n",
    "                       num_decoding_agents=4,\n",
    "                       device=device) for _ in range(2)]\n",
    "for m, path in zip(models, [MODEL_PATH_PRE, MODEL_PATH_POST]):\n",
    "    m.load_state_dict(torch.load(path, map_location=torch.device('cpu')))\n",
    "model_pre, model_post = models"
   ]
  },
  {
   "cell_type": "code",
   "execution_count": null,
   "metadata": {},
   "outputs": [],
   "source": [
    "def create_scatter_plot(answer, opt_answer, samples=1000, pretrain=True):\n",
    "    \n",
    "    model =  model_pre if pretrain else model_post\n",
    "    answers, lat_spaces, selection_biases = model(dataset.observations[0:1000],\n",
    "                                                  dataset.questions[0:1000])\n",
    "    df_answers = pd.DataFrame(answers.detach().numpy(), columns=['alpha1', 'alpha2', 'phi1', 'phi2'])\n",
    "    df_opt_answers = pd.DataFrame(dataset.opt_answers.detach().numpy(),\n",
    "                                  columns=['alpha1_star', 'alpha2_star', 'phi1_star', 'phi2_star'])\n",
    "    df_hidden_states = pd.DataFrame(dataset.hidden_states.detach().numpy(),\n",
    "                                   columns=['m1', 'm2', 'q1', 'q2'])\n",
    "    df_lat_space = pd.DataFrame(lat_spaces.detach().numpy(),\n",
    "                                   columns=['l1', 'l2', 'l3', 'l4'])\n",
    "    df_question = pd.DataFrame(dataset.questions.detach().numpy(),\n",
    "                           columns=['m_ref1', 'v_ref1', 'm_ref1', 'v_ref2'])\n",
    "    \n",
    "    fig = go.Figure()\n",
    "    fig.add_trace(go.Scatter(\n",
    "        y=df_answers[answer][0:samples],\n",
    "        x=df_opt_answers[opt_answer][0:samples],\n",
    "        mode='markers',\n",
    "        opacity=.5))\n",
    "    fig.update_layout(title_text='True labels vs prediction')\n",
    "    fig.update_xaxes(title_text='Optimal answer')\n",
    "    fig.update_yaxes(title_text='Predicted answer')\n",
    "    fig.show()\n",
    "interact(create_scatter_plot, answer=['alpha1', 'alpha2', 'phi1', 'phi2'],\n",
    "        opt_answer=['alpha1_star', 'alpha2_star', 'phi1_star', 'phi2_star'],\n",
    "        samples=[100, 1000, 10000])"
   ]
  },
  {
   "cell_type": "code",
   "execution_count": null,
   "metadata": {},
   "outputs": [],
   "source": [
    "model_post.selection_bias"
   ]
  },
  {
   "cell_type": "code",
   "execution_count": null,
   "metadata": {},
   "outputs": [],
   "source": [
    "import plotly.express as px\n",
    "px.scatter(x=df_hidden_states.q1[0:1000]*df_hidden_states.q2[0:1000],\n",
    "           y=df_lat_space.l1 * df_lat_space.l2)"
   ]
  },
  {
   "cell_type": "code",
   "execution_count": null,
   "metadata": {},
   "outputs": [],
   "source": [
    "df_hidden_states"
   ]
  },
  {
   "cell_type": "code",
   "execution_count": null,
   "metadata": {},
   "outputs": [],
   "source": []
  }
 ],
 "metadata": {
  "hide_input": false,
  "kernelspec": {
   "display_name": "Python 3",
   "language": "python",
   "name": "python3"
  },
  "language_info": {
   "codemirror_mode": {
    "name": "ipython",
    "version": 3
   },
   "file_extension": ".py",
   "mimetype": "text/x-python",
   "name": "python",
   "nbconvert_exporter": "python",
   "pygments_lexer": "ipython3",
   "version": "3.6.9"
  }
 },
 "nbformat": 4,
 "nbformat_minor": 4
}
