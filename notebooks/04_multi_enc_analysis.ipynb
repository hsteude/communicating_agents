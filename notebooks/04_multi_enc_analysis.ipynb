{
 "cells": [
  {
   "cell_type": "code",
   "execution_count": 1,
   "metadata": {},
   "outputs": [],
   "source": [
    "import os\n",
    "os.chdir('..')\n",
    "%load_ext autoreload\n",
    "%autoreload 2"
   ]
  },
  {
   "cell_type": "code",
   "execution_count": 2,
   "metadata": {},
   "outputs": [],
   "source": [
    "import torch\n",
    "from comm_agents.data.data_handler import RefExpDataset\n",
    "from comm_agents.models.model_multi_enc import MultiEncModel\n",
    "import pandas as pd\n",
    "import plotly.graph_objects as go\n",
    "from ipywidgets import interact"
   ]
  },
  {
   "cell_type": "code",
   "execution_count": 3,
   "metadata": {},
   "outputs": [],
   "source": [
    "dataset = RefExpDataset()"
   ]
  },
  {
   "cell_type": "code",
   "execution_count": 4,
   "metadata": {},
   "outputs": [],
   "source": [
    "MODEL_PATH_PRE = './models/multi_enc_model_pre2020-10-30.ckpt'\n",
    "MODEL_PATH_POST = './models/multi_enc_model_post2020-10-30-v0.ckpt'"
   ]
  },
  {
   "cell_type": "code",
   "execution_count": 5,
   "metadata": {},
   "outputs": [],
   "source": [
    "model_pre, model_post = [MultiEncModel.load_from_checkpoint(p) for p in [MODEL_PATH_PRE, MODEL_PATH_POST]]"
   ]
  },
  {
   "cell_type": "code",
   "execution_count": 6,
   "metadata": {},
   "outputs": [
    {
     "data": {
      "text/plain": [
       "(Parameter containing:\n",
       " tensor([[-17.2264, -15.9174, -12.9825, -12.6447],\n",
       "         [-14.4348, -16.7241, -11.4729, -11.5596],\n",
       "         [-16.1852, -16.2504, -16.1708, -16.2905],\n",
       "         [-15.8370, -16.1113, -16.4024, -15.9794]], requires_grad=True),\n",
       " Parameter containing:\n",
       " tensor([[-3.0471, 16.7799, 16.7432, 16.6688],\n",
       "         [16.9789, -2.5843, 16.9288, 16.9864],\n",
       "         [-3.9637, -3.4496, -2.6675, -4.8138],\n",
       "         [-3.9446, -3.4891, -3.1365, -5.1670]], requires_grad=True))"
      ]
     },
     "execution_count": 6,
     "metadata": {},
     "output_type": "execute_result"
    }
   ],
   "source": [
    "model_pre.selection_bias, model_post.selection_bias"
   ]
  },
  {
   "cell_type": "code",
   "execution_count": 7,
   "metadata": {},
   "outputs": [],
   "source": [
    "def get_a_ls_sb(model, obs, qs):\n",
    "    lat_space = model.encode(obs)\n",
    "\n",
    "    # filter\n",
    "    s0, s1, s2, s3 = model.filter(lat_space, model.selection_bias)\n",
    "\n",
    "    # decode\n",
    "    answers = model.decode(s0, s1, s2, s3, qs)\n",
    "    \n",
    "    return answers, lat_space, model.selection_bias"
   ]
  },
  {
   "cell_type": "code",
   "execution_count": 8,
   "metadata": {},
   "outputs": [],
   "source": [
    "df_opt_answers = pd.DataFrame(dataset.opt_answers.detach().numpy(),\n",
    "                              columns=['alpha1_star', 'alpha2_star', 'phi1_star', 'phi2_star'])\n",
    "df_hidden_states = pd.DataFrame(dataset.hidden_states.detach().numpy(),\n",
    "                               columns=['m1', 'm2', 'q1', 'q2'])\n",
    "df_question = pd.DataFrame(dataset.questions.detach().numpy(),\n",
    "                       columns=['m_ref1', 'v_ref1', 'm_ref1', 'v_ref2'])\n",
    "    "
   ]
  },
  {
   "cell_type": "code",
   "execution_count": 12,
   "metadata": {
    "scrolled": false
   },
   "outputs": [
    {
     "data": {
      "application/vnd.jupyter.widget-view+json": {
       "model_id": "a2726d9f6e694a7abb33767aa4dff360",
       "version_major": 2,
       "version_minor": 0
      },
      "text/plain": [
       "interactive(children=(Dropdown(description='answer', options=('alpha1', 'alpha2', 'phi1', 'phi2'), value='alph…"
      ]
     },
     "metadata": {},
     "output_type": "display_data"
    },
    {
     "data": {
      "text/plain": [
       "<function __main__.create_answers_plot(answer, opt_answer, samples=1000, pretrain=True)>"
      ]
     },
     "execution_count": 12,
     "metadata": {},
     "output_type": "execute_result"
    }
   ],
   "source": [
    "def create_answers_plot(answer, opt_answer, samples=1000, pretrain=True):\n",
    "    \n",
    "    model =  model_pre if pretrain else model_post\n",
    "    answers, lat_spaces, selection_biases = get_a_ls_sb(model, dataset.observations[0:1000],\n",
    "                                                  dataset.questions[0:1000])\n",
    "    df_answers = pd.DataFrame(answers.detach().numpy(), columns=['alpha1', 'alpha2', 'phi1', 'phi2'])\n",
    "    df_lat_space = pd.DataFrame(lat_spaces.detach().numpy(),\n",
    "                                   columns=['l1', 'l2', 'l3', 'l4'])\n",
    "    \n",
    "    fig = go.Figure()\n",
    "    fig.add_trace(go.Scatter(\n",
    "        y=df_answers[answer][0:samples],\n",
    "        x=df_opt_answers[opt_answer][0:samples],\n",
    "        mode='markers',\n",
    "        opacity=.5))\n",
    "    fig.update_layout(title_text='True labels vs prediction')\n",
    "    fig.update_xaxes(title_text='Optimal answer')\n",
    "    fig.update_yaxes(title_text='Predicted answer')\n",
    "    fig.show()\n",
    "interact(create_answers_plot, answer=['alpha1', 'alpha2', 'phi1', 'phi2'],\n",
    "        opt_answer=['alpha1_star', 'alpha2_star', 'phi1_star', 'phi2_star'],\n",
    "        samples=[100, 1000, 10000])"
   ]
  },
  {
   "cell_type": "code",
   "execution_count": 13,
   "metadata": {},
   "outputs": [
    {
     "data": {
      "application/vnd.jupyter.widget-view+json": {
       "model_id": "a8835fc49f134e28a60f4f625c049310",
       "version_major": 2,
       "version_minor": 0
      },
      "text/plain": [
       "interactive(children=(Dropdown(description='lat_neuron', options=('l1', 'l2', 'l3', 'l4'), value='l1'), Dropdo…"
      ]
     },
     "metadata": {},
     "output_type": "display_data"
    },
    {
     "data": {
      "text/plain": [
       "<function __main__.create_lat_space_plot(lat_neuron, hidden_state, samples=1000, pretrain=True)>"
      ]
     },
     "execution_count": 13,
     "metadata": {},
     "output_type": "execute_result"
    }
   ],
   "source": [
    "def create_lat_space_plot(lat_neuron, hidden_state, samples=1000, pretrain=True):\n",
    "    \n",
    "    model =  model_pre if pretrain else model_post\n",
    "    lat_spaces = model(dataset.observations[0:1000])\n",
    "    df_lat_space = pd.DataFrame(lat_spaces.detach().numpy(),\n",
    "                                   columns=['l1', 'l2', 'l3', 'l4'])\n",
    "    \n",
    "    fig = go.Figure()\n",
    "    fig.add_trace(go.Scatter(\n",
    "        y=df_lat_space[lat_neuron][0:samples],\n",
    "        x=df_hidden_states[hidden_state][0:samples],\n",
    "        mode='markers',\n",
    "        opacity=.5))\n",
    "    fig.update_layout(title_text='Latent neuron activation vs. hidden states')\n",
    "    fig.update_xaxes(title_text=f'Hiddenstate {hidden_state}')\n",
    "    fig.update_yaxes(title_text=f'Latent neuron activation {lat_neuron}')\n",
    "    fig.show()\n",
    "interact(create_lat_space_plot, lat_neuron=['l1', 'l2', 'l3', 'l4'],\n",
    "        hidden_state=['m1', 'm2', 'q1', 'q2'],\n",
    "        samples=[100, 1000, 10000])"
   ]
  },
  {
   "cell_type": "code",
   "execution_count": 25,
   "metadata": {},
   "outputs": [
    {
     "data": {
      "text/html": [
       "<div>\n",
       "<style scoped>\n",
       "    .dataframe tbody tr th:only-of-type {\n",
       "        vertical-align: middle;\n",
       "    }\n",
       "\n",
       "    .dataframe tbody tr th {\n",
       "        vertical-align: top;\n",
       "    }\n",
       "\n",
       "    .dataframe thead th {\n",
       "        text-align: right;\n",
       "    }\n",
       "</style>\n",
       "<table border=\"1\" class=\"dataframe\">\n",
       "  <thead>\n",
       "    <tr style=\"text-align: right;\">\n",
       "      <th></th>\n",
       "      <th>m1</th>\n",
       "      <th>m2</th>\n",
       "      <th>q1</th>\n",
       "      <th>q2</th>\n",
       "    </tr>\n",
       "  </thead>\n",
       "  <tbody>\n",
       "    <tr>\n",
       "      <th>0</th>\n",
       "      <td>2.886907e-20</td>\n",
       "      <td>3.190157e-20</td>\n",
       "      <td>3.881887e-16</td>\n",
       "      <td>-5.268712e-16</td>\n",
       "    </tr>\n",
       "    <tr>\n",
       "      <th>1</th>\n",
       "      <td>4.716424e-20</td>\n",
       "      <td>4.255824e-20</td>\n",
       "      <td>3.297433e-16</td>\n",
       "      <td>-4.814518e-16</td>\n",
       "    </tr>\n",
       "    <tr>\n",
       "      <th>2</th>\n",
       "      <td>4.007451e-20</td>\n",
       "      <td>2.639950e-20</td>\n",
       "      <td>5.569538e-16</td>\n",
       "      <td>-4.749995e-16</td>\n",
       "    </tr>\n",
       "    <tr>\n",
       "      <th>3</th>\n",
       "      <td>1.249199e-20</td>\n",
       "      <td>4.477453e-20</td>\n",
       "      <td>3.100031e-16</td>\n",
       "      <td>-3.586409e-16</td>\n",
       "    </tr>\n",
       "    <tr>\n",
       "      <th>4</th>\n",
       "      <td>1.201942e-20</td>\n",
       "      <td>4.804323e-20</td>\n",
       "      <td>7.033183e-16</td>\n",
       "      <td>-4.712755e-16</td>\n",
       "    </tr>\n",
       "    <tr>\n",
       "      <th>...</th>\n",
       "      <td>...</td>\n",
       "      <td>...</td>\n",
       "      <td>...</td>\n",
       "      <td>...</td>\n",
       "    </tr>\n",
       "    <tr>\n",
       "      <th>1041817</th>\n",
       "      <td>3.934335e-20</td>\n",
       "      <td>3.914088e-20</td>\n",
       "      <td>4.882463e-16</td>\n",
       "      <td>-5.192551e-16</td>\n",
       "    </tr>\n",
       "    <tr>\n",
       "      <th>1041818</th>\n",
       "      <td>3.934335e-20</td>\n",
       "      <td>3.914088e-20</td>\n",
       "      <td>4.882463e-16</td>\n",
       "      <td>-5.192551e-16</td>\n",
       "    </tr>\n",
       "    <tr>\n",
       "      <th>1041819</th>\n",
       "      <td>3.934335e-20</td>\n",
       "      <td>3.914088e-20</td>\n",
       "      <td>4.882463e-16</td>\n",
       "      <td>-5.192551e-16</td>\n",
       "    </tr>\n",
       "    <tr>\n",
       "      <th>1041820</th>\n",
       "      <td>3.934335e-20</td>\n",
       "      <td>3.914088e-20</td>\n",
       "      <td>4.882463e-16</td>\n",
       "      <td>-5.192551e-16</td>\n",
       "    </tr>\n",
       "    <tr>\n",
       "      <th>1041821</th>\n",
       "      <td>3.934335e-20</td>\n",
       "      <td>3.914088e-20</td>\n",
       "      <td>4.882463e-16</td>\n",
       "      <td>-5.192551e-16</td>\n",
       "    </tr>\n",
       "  </tbody>\n",
       "</table>\n",
       "<p>1041822 rows × 4 columns</p>\n",
       "</div>"
      ],
      "text/plain": [
       "                   m1            m2            q1            q2\n",
       "0        2.886907e-20  3.190157e-20  3.881887e-16 -5.268712e-16\n",
       "1        4.716424e-20  4.255824e-20  3.297433e-16 -4.814518e-16\n",
       "2        4.007451e-20  2.639950e-20  5.569538e-16 -4.749995e-16\n",
       "3        1.249199e-20  4.477453e-20  3.100031e-16 -3.586409e-16\n",
       "4        1.201942e-20  4.804323e-20  7.033183e-16 -4.712755e-16\n",
       "...               ...           ...           ...           ...\n",
       "1041817  3.934335e-20  3.914088e-20  4.882463e-16 -5.192551e-16\n",
       "1041818  3.934335e-20  3.914088e-20  4.882463e-16 -5.192551e-16\n",
       "1041819  3.934335e-20  3.914088e-20  4.882463e-16 -5.192551e-16\n",
       "1041820  3.934335e-20  3.914088e-20  4.882463e-16 -5.192551e-16\n",
       "1041821  3.934335e-20  3.914088e-20  4.882463e-16 -5.192551e-16\n",
       "\n",
       "[1041822 rows x 4 columns]"
      ]
     },
     "execution_count": 25,
     "metadata": {},
     "output_type": "execute_result"
    }
   ],
   "source": [
    "df_hidden_states"
   ]
  },
  {
   "cell_type": "code",
   "execution_count": null,
   "metadata": {},
   "outputs": [],
   "source": []
  }
 ],
 "metadata": {
  "hide_input": false,
  "kernelspec": {
   "display_name": "Python 3",
   "language": "python",
   "name": "python3"
  },
  "language_info": {
   "codemirror_mode": {
    "name": "ipython",
    "version": 3
   },
   "file_extension": ".py",
   "mimetype": "text/x-python",
   "name": "python",
   "nbconvert_exporter": "python",
   "pygments_lexer": "ipython3",
   "version": "3.6.9"
  }
 },
 "nbformat": 4,
 "nbformat_minor": 4
}
